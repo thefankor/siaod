{
 "cells": [
  {
   "cell_type": "markdown",
   "id": "db4b50f0",
   "metadata": {
    "id": "db4b50f0"
   },
   "source": [
    "# Лабораторная работа №5\n",
    "## Выполнил студент группы Возжин Сергей Дмитриевич БПИ2301"
   ]
  },
  {
   "cell_type": "markdown",
   "id": "annual-symbol",
   "metadata": {
    "id": "annual-symbol"
   },
   "source": [
    "### Оглавление\n",
    "1. [Задание 1](#Задание-№1)\n",
    "2. [Задание 2](#Задание-№2)\n",
    "4. [Вывод](#Вывод)"
   ]
  },
  {
   "cell_type": "markdown",
   "id": "independent-spirit",
   "metadata": {
    "id": "independent-spirit"
   },
   "source": [
    "> Дополнительные модули, использованные при выполнение лабораторной"
   ]
  },
  {
   "cell_type": "code",
   "execution_count": null,
   "id": "4839be2b",
   "metadata": {
    "id": "4839be2b"
   },
   "outputs": [],
   "source": [
    "# Необходим при замере скорости выполнения кода\n",
    "from datetime import datetime as t\n",
    "# Нужен для создания словаря в алг. Бойера-Мура\n",
    "from collections import defaultdict"
   ]
  },
  {
   "cell_type": "markdown",
   "id": "inclusive-motorcycle",
   "metadata": {
    "id": "inclusive-motorcycle"
   },
   "source": [
    "### Задание №1\n",
    "Реализовать методы поиска подстроки в строке. Добавить возможность ввода строки и подстроки с клавиатуры. Предусмотреть возможность существования пробела. Реализовать возможность выбора опции чувствительности или нечувствительности к регистру. Оценить время работы каждого алгоритма поиска и сравнить его со временем работы стандартной функции поиска, используемой в выбранном языке программирования."
   ]
  },
  {
   "cell_type": "markdown",
   "id": "interracial-communication",
   "metadata": {
    "id": "interracial-communication"
   },
   "source": [
    "#### Алгоритм Кнута-Морриса-Пратта"
   ]
  },
  {
   "cell_type": "code",
   "id": "presidential-level",
   "metadata": {
    "id": "presidential-level",
    "ExecuteTime": {
     "end_time": "2025-05-15T23:19:50.446932Z",
     "start_time": "2025-05-15T23:19:50.441778Z"
    }
   },
   "source": [
    "def kmp_search(text, pattern, case_sensitive=True):\n",
    "    \"\"\"\n",
    "    Поиск подстроки в строке с использованием алгоритма Кнута-Морриса-Пратта (KMP).\n",
    "\n",
    "    :param text: Строка, в которой выполняется поиск\n",
    "    :param pattern: Искомая подстрока\n",
    "    :param case_sensitive: Флаг чувствительности к регистру\n",
    "    :return: Индекс начала подстроки или -1, если не найдено\n",
    "    \"\"\"\n",
    "    if not case_sensitive:\n",
    "        text = text.lower()\n",
    "        pattern = pattern.lower()\n",
    "\n",
    "    p = [0] * len(pattern)\n",
    "    j = 0\n",
    "    for i in range(1, len(pattern)):\n",
    "        while j > 0 and pattern[i] != pattern[j]:\n",
    "            j = p[j - 1]\n",
    "        if pattern[i] == pattern[j]:\n",
    "            j += 1\n",
    "            p[i] = j\n",
    "\n",
    "    i = j = 0\n",
    "    while i < len(text):\n",
    "        if text[i] == pattern[j]:\n",
    "            i += 1\n",
    "            j += 1\n",
    "            if j == len(pattern):\n",
    "                return i - j\n",
    "        else:\n",
    "            if j > 0:\n",
    "                j = p[j - 1]\n",
    "            else:\n",
    "                i += 1\n",
    "\n",
    "    return -1\n",
    "\n",
    "text = \"lirili larilalalala\"\n",
    "pattern = \"laLa\"\n",
    "\n",
    "print(kmp_search(text, pattern, case_sensitive=True))\n",
    "print(kmp_search(text, pattern, case_sensitive=False))"
   ],
   "outputs": [
    {
     "name": "stdout",
     "output_type": "stream",
     "text": [
      "-1\n",
      "11\n"
     ]
    }
   ],
   "execution_count": 2
  },
  {
   "cell_type": "markdown",
   "id": "downtown-option",
   "metadata": {
    "id": "downtown-option"
   },
   "source": " #### Упрощенный алгоритм Бойера-Мура"
  },
  {
   "cell_type": "code",
   "id": "respective-reggae",
   "metadata": {
    "id": "respective-reggae",
    "ExecuteTime": {
     "end_time": "2025-05-15T23:23:55.844744Z",
     "start_time": "2025-05-15T23:23:55.840628Z"
    }
   },
   "source": [
    "def boyer_moore_search(text, pattern, case_sensitive=True):\n",
    "    \"\"\"\n",
    "    Поиск подстроки в строке с использованием алгоритма Бойера-Мура.\n",
    "\n",
    "    :param text: Строка, в которой выполняется поиск\n",
    "    :param pattern: Искомая подстрока\n",
    "    :param case_sensitive: Флаг чувствительности к регистру\n",
    "    :return: Индекс начала подстроки или -1, если не найдено\n",
    "    \"\"\"\n",
    "    if not case_sensitive:\n",
    "        text = text.lower()\n",
    "        pattern = pattern.lower()\n",
    "    S = set()\n",
    "    M = len(pattern)\n",
    "    d = {}\n",
    "\n",
    "    for i in range(M - 2, -1, -1):\n",
    "        if pattern[i] not in S:\n",
    "            d[pattern[i]] = M - i - 1\n",
    "            S.add(pattern[i])\n",
    "\n",
    "    if pattern[M - 1] not in S:\n",
    "        d[pattern[M - 1]] = M\n",
    "        S.add(pattern[M - 1])\n",
    "\n",
    "    d[\"*\"] = M\n",
    "\n",
    "    print(\"Таблица смещений:\", d)\n",
    "\n",
    "    N = len(text)\n",
    "\n",
    "    if N >= M:\n",
    "        i = M - 1\n",
    "        while i < N:\n",
    "            k = 0\n",
    "            for j in range(M - 1, -1, -1):\n",
    "                if text[i - k] != pattern[j]:\n",
    "                    off = d.get(text[i], d[\"*\"])\n",
    "                    i += off\n",
    "                    break\n",
    "                k += 1\n",
    "\n",
    "            if k == M:\n",
    "                return i - k + 1\n",
    "        else:\n",
    "            return -1\n",
    "    else:\n",
    "        return -1\n",
    "\n",
    "text = \"тралалеро тралала\"\n",
    "pattern = \"лаЛа\"\n",
    "\n",
    "print(boyer_moore_search(text, pattern, case_sensitive=True))\n",
    "print(boyer_moore_search(text, pattern, case_sensitive=False))"
   ],
   "outputs": [
    {
     "name": "stdout",
     "output_type": "stream",
     "text": [
      "Таблица смещений: {'Л': 1, 'а': 2, 'л': 3, '*': 4}\n",
      "-1\n",
      "Таблица смещений: {'л': 1, 'а': 2, '*': 4}\n",
      "13\n"
     ]
    }
   ],
   "execution_count": 5
  },
  {
   "metadata": {
    "ExecuteTime": {
     "end_time": "2025-05-15T23:27:48.388873Z",
     "start_time": "2025-05-15T23:27:48.385750Z"
    }
   },
   "cell_type": "code",
   "source": [
    "import time\n",
    "def measure_time(func, text, pattern, case_sensitive):\n",
    "    start = time.time()\n",
    "    result = func(text, pattern, case_sensitive)\n",
    "    end = time.time()\n",
    "    return result, (end - start) * 1000  # Время в миллисекундах\n",
    "\n",
    "\n",
    "def main():\n",
    "    # Тестовые данные\n",
    "    text = \"тралалеро тралала\"\n",
    "    pattern = \"лала\"\n",
    "    case_sensitive = False\n",
    "\n",
    "    print(\"\\n=== Результаты поиска ===\")\n",
    "    print(f\"Текст: {text}\")\n",
    "    print(f\"Подстрока: {pattern}\")\n",
    "    print(f\"Чувствительность к регистру: {'Да' if case_sensitive else 'Нет'}\\n\")\n",
    "\n",
    "    # Алгоритм KMP\n",
    "    result, kmp_time = measure_time(kmp_search, text, pattern, case_sensitive)\n",
    "    print(f\"KMP: {'Найдено на позиции ' + str(result) if result != -1 else 'Не найдено'} за {kmp_time:.4f} мс\")\n",
    "\n",
    "    # Алгоритм Бойера-Мура\n",
    "    result, bm_time = measure_time(boyer_moore_search, text, pattern, case_sensitive)\n",
    "    print(f\"Boyer-Moore: {'Найдено на позиции ' + str(result) if result != -1 else 'Не найдено'} за {bm_time:.4f} мс\")\n",
    "\n",
    "    # Встроенный поиск\n",
    "    start = time.time()\n",
    "    if case_sensitive:\n",
    "        result = text.find(pattern)\n",
    "    else:\n",
    "        result = text.lower().find(pattern.lower())\n",
    "    end = time.time()\n",
    "    builtin_time = (end - start) * 1000\n",
    "\n",
    "    print(f\"Built-in find(): {'Найдено на позиции ' + str(result) if result != -1 else 'Не найдено'} за {builtin_time:.4f} мс\")\n",
    "\n",
    "    # Сравнение времени выполнения\n",
    "    print(\"\\n=== Сравнение времени выполнения ===\")\n",
    "    print(f\"KMP: {kmp_time:.4f} мс\")\n",
    "    print(f\"Boyer-Moore: {bm_time:.4f} мс\")\n",
    "    print(f\"Built-in find(): {builtin_time:.4f} мс\")\n",
    "\n",
    "\n",
    "if __name__ == \"__main__\":\n",
    "    main()"
   ],
   "id": "4a57445924a6a1c8",
   "outputs": [
    {
     "name": "stdout",
     "output_type": "stream",
     "text": [
      "\n",
      "=== Результаты поиска ===\n",
      "Текст: тралалеро тралала\n",
      "Подстрока: лала\n",
      "Чувствительность к регистру: Нет\n",
      "\n",
      "KMP: Найдено на позиции 13 за 0.0050 мс\n",
      "Таблица смещений: {'л': 1, 'а': 2, '*': 4}\n",
      "Boyer-Moore: Найдено на позиции 13 за 0.0122 мс\n",
      "Built-in find(): Найдено на позиции 13 за 0.0010 мс\n",
      "\n",
      "=== Сравнение времени выполнения ===\n",
      "KMP: 0.0050 мс\n",
      "Boyer-Moore: 0.0122 мс\n",
      "Built-in find(): 0.0010 мс\n"
     ]
    }
   ],
   "execution_count": 12
  },
  {
   "cell_type": "markdown",
   "id": "hybrid-memorial",
   "metadata": {
    "id": "hybrid-memorial"
   },
   "source": [
    "### Задание №2\n",
    "Написать программу, определяющую, является ли данное\n",
    "расположение «решаемым», то есть можно ли из него за конечное число\n",
    "шагов перейти к правильному. Если это возможно, то необходимо найти хотя\n",
    "бы одно решение - последовательность движений, после которой числа будут\n",
    "расположены в правильном порядке.\n",
    "#### Входные данные: массив чисел, представляющий собой расстановку в\n",
    "Порядке «слева направо, сверху вниз». Число 0 обозначает пустое поле.\n",
    "Например, массив [1, 2, 3, 4, 5, 6, 7, 8, 9, 10, 11, 12, 13, 14, 15, 0] представляет\n",
    "собой «решенную» позицию элементов.\n",
    "#### Выходные данные: если решения нет, то функция должна вернуть\n",
    "Пустой массив []. Если решение есть, то необходимо представить решение —\n",
    "для каждого шага записывается номер передвигаемого на данном шаге\n",
    "элемента. "
   ]
  },
  {
   "cell_type": "code",
   "id": "eleven-generic",
   "metadata": {
    "id": "eleven-generic",
    "ExecuteTime": {
     "end_time": "2025-05-15T23:05:12.185335Z",
     "start_time": "2025-05-15T23:05:12.179806Z"
    }
   },
   "source": [
    "from collections import deque\n",
    "\n",
    "\n",
    "def is_solvable(puzzle, n):\n",
    "    inversions = 0\n",
    "    empty_row = 0\n",
    "\n",
    "    for i in range(n*n):\n",
    "        if puzzle[i] == 0:\n",
    "            empty_row = i // n\n",
    "            continue\n",
    "        for j in range(i+1, n*n):\n",
    "            if puzzle[j] != 0 and puzzle[i] > puzzle[j]:\n",
    "                inversions += 1\n",
    "\n",
    "    if n % 2 == 1:\n",
    "        return inversions % 2 == 0\n",
    "    else:\n",
    "        return (inversions + empty_row) % 2 == 1\n",
    "\n",
    "def generate_goal_state(n):\n",
    "    return list(range(1, n * n)) + [0]\n",
    "\n",
    "def get_neighbors(state, n):\n",
    "    neighbors = []\n",
    "    empty_index = state.index(0)\n",
    "    row, col = divmod(empty_index, n)\n",
    "\n",
    "    for dr, dc in [(-1,0),(1,0),(0,-1),(0,1)]:\n",
    "        new_row, new_col = row + dr, col + dc\n",
    "        if 0 <= new_row < n and 0 <= new_col < n:\n",
    "            new_index = new_row * n + new_col\n",
    "            new_state = state[:]\n",
    "            new_state[empty_index], new_state[new_index] = new_state[new_index], new_state[empty_index]\n",
    "            neighbors.append((new_state, new_state[empty_index]))\n",
    "\n",
    "    return neighbors\n",
    "\n",
    "def solve_puzzle(start_state, n):\n",
    "    if not is_solvable(start_state, n):\n",
    "        return []\n",
    "\n",
    "    goal_state = generate_goal_state(n)\n",
    "\n",
    "    if start_state == goal_state:\n",
    "        return []\n",
    "\n",
    "    queue = deque([(start_state, [])])\n",
    "    visited = set([tuple(start_state)])\n",
    "\n",
    "    while queue:\n",
    "        current_state, path = queue.popleft()\n",
    "\n",
    "        for neighbor, moved_tile in get_neighbors(current_state, n):\n",
    "            if tuple(neighbor) not in visited:\n",
    "                if neighbor == goal_state:\n",
    "                    return path + [moved_tile]\n",
    "\n",
    "                visited.add(tuple(neighbor))\n",
    "                queue.append((neighbor, path + [moved_tile]))\n",
    "\n",
    "    return []\n",
    "\n",
    "puzzle = [1, 2, 3, 4,\n",
    "          5, 6, 7, 8,\n",
    "          9, 14, 10, 12,\n",
    "          0, 13, 11, 15]\n",
    "\n",
    "solution = solve_puzzle(puzzle, 4)\n",
    "print(\"Решение найдено:\", solution)"
   ],
   "outputs": [
    {
     "name": "stdout",
     "output_type": "stream",
     "text": [
      "Решение найдено: [13, 14, 10, 11, 15]\n"
     ]
    }
   ],
   "execution_count": 13
  },
  {
   "cell_type": "markdown",
   "id": "arbitrary-amazon",
   "metadata": {
    "id": "arbitrary-amazon"
   },
   "source": [
    "### Вывод"
   ]
  },
  {
   "cell_type": "markdown",
   "id": "71bc58bf",
   "metadata": {
    "id": "71bc58bf"
   },
   "source": []
  }
 ],
 "metadata": {
  "kernelspec": {
   "display_name": "Python 3 (ipykernel)",
   "language": "python",
   "name": "python3"
  },
  "language_info": {
   "codemirror_mode": {
    "name": "ipython",
    "version": 3
   },
   "file_extension": ".py",
   "mimetype": "text/x-python",
   "name": "python",
   "nbconvert_exporter": "python",
   "pygments_lexer": "ipython3",
   "version": "3.10.2"
  },
  "colab": {
   "provenance": []
  }
 },
 "nbformat": 4,
 "nbformat_minor": 5
}
