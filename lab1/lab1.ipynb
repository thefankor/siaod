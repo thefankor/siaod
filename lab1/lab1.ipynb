{
  "nbformat": 4,
  "nbformat_minor": 0,
  "metadata": {
    "colab": {
      "provenance": []
    },
    "kernelspec": {
      "name": "python3",
      "display_name": "Python 3"
    },
    "language_info": {
      "name": "python"
    }
  },
  "cells": [
    {
      "cell_type": "markdown",
      "source": [
        "# Лабораторная работа №1\n",
        "\n",
        "### Выполнил студент группы БПИ2301 Возжин Сергей Дмитриевич\n",
        "\n"
      ],
      "metadata": {
        "id": "j8Gid9-YXx6_"
      }
    },
    {
      "cell_type": "code",
      "execution_count": 2,
      "metadata": {
        "id": "v5gdAsSAXvwe"
      },
      "outputs": [],
      "source": [
        "import random"
      ]
    },
    {
      "cell_type": "code",
      "source": [
        "def generate_matrix(n=50, m=50, min_limit=-25000, max_limit=101000):\n",
        "  matrix = []\n",
        "  for i in range(n):\n",
        "    matrix.append(random.sample(range(min_limit, max_limit), m))\n",
        "  return matrix"
      ],
      "metadata": {
        "id": "0EmSwt7kYAJG"
      },
      "execution_count": 13,
      "outputs": []
    },
    {
      "cell_type": "code",
      "source": [
        "def bubble_sort(data: list) -> list:\n",
        "  for i in range(len(data)-1):\n",
        "    swapped = False\n",
        "    for j in range(len(data)-1-i):\n",
        "      if data[j] > data[j+1]:\n",
        "        data[j], data[j+1] = data[j+1], data[j]\n",
        "        swapped = True\n",
        "    if not swapped:\n",
        "      break\n",
        "  return data"
      ],
      "metadata": {
        "id": "xwLvk1uXaKp4"
      },
      "execution_count": 14,
      "outputs": []
    },
    {
      "cell_type": "code",
      "source": [
        "def selection_sort(data: list) -> list:\n",
        "  for i in range(len(data)-1):\n",
        "    min = i\n",
        "    for j in range(i+1, len(data)):\n",
        "      if data[j] < data[min]:\n",
        "        min = j\n",
        "    data[i], data[min] = data[min], data[i]\n",
        "  return data"
      ],
      "metadata": {
        "id": "u2dV8XGsfznH"
      },
      "execution_count": 5,
      "outputs": []
    },
    {
      "cell_type": "code",
      "source": [
        "def insertion_sort(arr: list) -> list:\n",
        "    for i in range(1, len(arr)):\n",
        "        for j in range(i, 0, -1):\n",
        "          if arr[j] < arr[j-1]:\n",
        "              arr[j], arr[j-1] = arr[j-1], arr[j]\n",
        "          else:\n",
        "              break\n",
        "    return arr"
      ],
      "metadata": {
        "id": "jlmKnwIEjIkt"
      },
      "execution_count": 6,
      "outputs": []
    },
    {
      "cell_type": "code",
      "source": [
        "def quick_sort(arr):\n",
        "    n = len(arr)\n",
        "    if n <= 1:\n",
        "        return arr\n",
        "\n",
        "    rand_value = arr[random.randint(0, n-1)]\n",
        "    left = [x for x in arr if x < rand_value]\n",
        "    middle = [x for x in arr if x == rand_value]\n",
        "    right = [x for x in arr if x > rand_value]\n",
        "    return quick_sort(left) + middle + quick_sort(right)"
      ],
      "metadata": {
        "id": "cDQX4CqFmcgV"
      },
      "execution_count": 7,
      "outputs": []
    },
    {
      "cell_type": "code",
      "source": [
        "def shell_sort(arr: list):\n",
        "  gap = len(arr) // 2\n",
        "  while gap > 0:\n",
        "    for i in range(gap, len(arr)):\n",
        "        temp = arr[i]\n",
        "        j = i\n",
        "        while j >= gap and arr[j - gap] > temp:\n",
        "            arr[j] = arr[j - gap]\n",
        "            j -= gap\n",
        "        arr[j] = temp\n",
        "    gap //= 2\n",
        "\n",
        "    return arr\n"
      ],
      "metadata": {
        "id": "qefdAgxsSZkx"
      },
      "execution_count": 8,
      "outputs": []
    },
    {
      "cell_type": "code",
      "source": [
        "def min_heap(arr, n, i):\n",
        "    smallest = i\n",
        "    l = 2 * i + 1\n",
        "    r = 2 * i + 2\n",
        "    if l < n and arr[smallest] > arr[l]:\n",
        "        smallest = l\n",
        "    if r < n and arr[smallest] > arr[r]:\n",
        "        smallest = r\n",
        "    if smallest != i:\n",
        "        temp = arr[i]\n",
        "        arr[i] = arr[smallest]\n",
        "        arr[smallest] = temp\n",
        "        min_heap(arr, n, smallest)\n",
        "\n",
        "def tournament_sort(arr):\n",
        "    k = 7\n",
        "    while True:\n",
        "        heap = []\n",
        "        losers = []\n",
        "        winners = []\n",
        "        idx = 0\n",
        "\n",
        "        while idx < len(arr) and len(heap) < k:\n",
        "            heap.append(arr[idx])\n",
        "            idx += 1\n",
        "\n",
        "        for i in range(len(heap)):\n",
        "            min_heap(heap, len(heap), i)\n",
        "\n",
        "        while idx < len(arr):\n",
        "            elem = arr[idx]\n",
        "            if elem > heap[0]:\n",
        "                winners.append(heap[0])\n",
        "                heap[0] = elem\n",
        "                min_heap(heap, len(heap), 0)\n",
        "            else:\n",
        "                losers.append(elem)\n",
        "            idx += 1\n",
        "\n",
        "        heap_size = len(heap)\n",
        "        while heap_size > 0:\n",
        "            winners.append(heap[0])\n",
        "            heap[0] = heap[heap_size - 1]\n",
        "            heap_size -= 1\n",
        "            if heap_size > 0:\n",
        "                min_heap(heap, heap_size, 0)\n",
        "\n",
        "        if not losers:\n",
        "            arr = winners\n",
        "            break\n",
        "        else:\n",
        "            arr = losers + winners\n",
        "            losers = []\n",
        "            winners = []\n",
        "\n",
        "    return arr"
      ],
      "metadata": {
        "id": "mL4Qq__9aFJ1"
      },
      "execution_count": 9,
      "outputs": []
    },
    {
      "cell_type": "code",
      "source": [
        "def heapify(arr, heap_size, root_index):\n",
        "    largest = root_index\n",
        "    left_child = (2 * root_index) + 1\n",
        "    right_child = (2 * root_index) + 2\n",
        "\n",
        "    if left_child < heap_size and arr[left_child] > arr[largest]:\n",
        "        largest = left_child\n",
        "\n",
        "    if right_child < heap_size and arr[right_child] > arr[largest]:\n",
        "        largest = right_child\n",
        "\n",
        "    if largest != root_index:\n",
        "        arr[root_index], arr[largest] = arr[largest], arr[root_index]\n",
        "        heapify(arr, heap_size, largest)\n",
        "\n",
        "def heap_sort(arr):\n",
        "    n = len(arr)\n",
        "\n",
        "    for i in range(n, -1, -1):\n",
        "        heapify(arr, n, i)\n",
        "\n",
        "    for i in range(n - 1, 0, -1):\n",
        "        arr[i], arr[0] = arr[0], arr[i]\n",
        "        heapify(arr, i, 0)\n",
        "    return arr\n"
      ],
      "metadata": {
        "id": "FST2ziDqPLlx"
      },
      "execution_count": 10,
      "outputs": []
    },
    {
      "cell_type": "code",
      "source": [
        "import time\n",
        "def test_algorithms():\n",
        "    matrix = generate_matrix(100, 100)\n",
        "    start = time.time()\n",
        "    for row in matrix:\n",
        "        selection_sort(row)\n",
        "    print(\"Selection sort time: \", time.time() - start)\n",
        "\n",
        "    matrix = generate_matrix(100, 100)\n",
        "    start = time.time()\n",
        "    for row in matrix:\n",
        "        insertion_sort(row)\n",
        "    print(\"Insertion sort time: \", time.time() - start)\n",
        "\n",
        "    matrix = generate_matrix(100, 100)\n",
        "    start = time.time()\n",
        "    for row in matrix:\n",
        "        bubble_sort(row)\n",
        "    print(\"Bubble sort time: \", time.time() - start)\n",
        "\n",
        "    matrix = generate_matrix(100, 100)\n",
        "    start = time.time()\n",
        "    for row in matrix:\n",
        "        shell_sort(row)\n",
        "    print(\"Shell sort time: \", time.time() - start)\n",
        "\n",
        "    matrix = generate_matrix(100, 100)\n",
        "    start = time.time()\n",
        "    for row in matrix:\n",
        "        tournament_sort(row)\n",
        "    print(\"Tournament sort time: \", time.time() - start)\n",
        "\n",
        "    matrix = generate_matrix(100, 100)\n",
        "    start = time.time()\n",
        "    for row in matrix:\n",
        "        quick_sort(row)\n",
        "    print(\"Quick sort time: \", time.time() - start)\n",
        "\n",
        "    matrix = generate_matrix(100, 100)\n",
        "    start = time.time()\n",
        "    for row in matrix:\n",
        "        heap_sort(row)\n",
        "    print(\"Heap sort time: \", time.time() - start)\n",
        "\n",
        "    matrix = generate_matrix(100, 100)\n",
        "    start = time.time()\n",
        "    for row in matrix:\n",
        "        row.sort()\n",
        "    print(\"Default sort time: \", time.time() - start)"
      ],
      "metadata": {
        "id": "S7-ellHGfmcC"
      },
      "execution_count": 17,
      "outputs": []
    },
    {
      "cell_type": "code",
      "source": [
        "test_algorithms()"
      ],
      "metadata": {
        "colab": {
          "base_uri": "https://localhost:8080/"
        },
        "id": "ddSW_6RigMUA",
        "outputId": "5d914035-6a94-4eb8-8bcd-0c519f189b77"
      },
      "execution_count": 18,
      "outputs": [
        {
          "output_type": "stream",
          "name": "stdout",
          "text": [
            "Selection sort time:  0.02358722686767578\n",
            "Insertion sort time:  0.025856971740722656\n",
            "Bubble sort time:  0.03884530067443848\n",
            "Shell sort time:  0.0006744861602783203\n",
            "Tournament sort time:  0.046289682388305664\n",
            "Quick sort time:  0.0203554630279541\n",
            "Heap sort time:  0.02299976348876953\n",
            "Default sort time:  0.0008323192596435547\n"
          ]
        }
      ]
    }
  ]
}