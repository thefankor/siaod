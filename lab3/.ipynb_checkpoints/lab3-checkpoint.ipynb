{
 "nbformat": 4,
 "nbformat_minor": 0,
 "metadata": {
  "colab": {
   "provenance": [],
   "authorship_tag": "ABX9TyMWhZJaFyGwS2iSDSVKsy8F"
  },
  "kernelspec": {
   "name": "python3",
   "display_name": "Python 3"
  },
  "language_info": {
   "name": "python"
  }
 },
 "cells": [
  {
   "cell_type": "markdown",
   "source": [
    "Бинарное дерево"
   ],
   "metadata": {
    "id": "um4yvoNCvMN8"
   }
  },
  {
   "cell_type": "code",
   "source": [
    "# Класс для создания узла бинарного дерева\n",
    "class Node:\n",
    "    def __init__(self, key):\n",
    "        self.left = None\n",
    "        self.right = None\n",
    "        self.val = key\n",
    "# Класс для создания бинарного дерева\n",
    "class BinarySearchTree:\n",
    "    def __init__(self):\n",
    "        self.root = None\n",
    "    # Метод для добавления узла в дерево\n",
    "    def insert(self, key):\n",
    "        if self.root is None:\n",
    "            self.root = Node(key)\n",
    "        else:\n",
    "            self._insert(key, self.root)\n",
    "    # Вспомогательный метод для рекурсивного добавления узла в дерево\n",
    "    def _insert(self, key, node):\n",
    "        if key < node.val:\n",
    "            if node.left is None:\n",
    "                node.left = Node(key)\n",
    "            else:\n",
    "                self._insert(key, node.left)\n",
    "        elif key > node.val:\n",
    "            if node.right is None:\n",
    "                node.right = Node(key)\n",
    "            else:\n",
    "                self._insert(key, node.right)\n",
    "    # Метод для поиска узла в дереве\n",
    "    def search(self, key):\n",
    "        return self._search(key, self.root)\n",
    "    # Вспомогательный метод для рекурсивного поиска узла в дереве\n",
    "    def _search(self, key, node):\n",
    "        if node is None or node.val == key:\n",
    "            return node\n",
    "        elif key < node.val:\n",
    "            return self._search(key, node.left)\n",
    "        else:\n",
    "            return self._search(key, node.right)\n",
    "    # Метод для удаления узла из дерева\n",
    "    def delete(self, key):\n",
    "        self.root = self._delete(key, self.root)\n",
    "    # Вспомогательный метод для рекурсивного удаления узла из дерева\n",
    "    def _delete(self, key, node):\n",
    "        if node is None:\n",
    "            return node\n",
    "        elif key < node.val:\n",
    "            node.left = self._delete(key, node.left)\n",
    "        elif key > node.val:\n",
    "            node.right = self._delete(key, node.right)\n",
    "        else:\n",
    "            if node.left is None:\n",
    "                return node.right\n",
    "            elif node.right is None:\n",
    "                return node.left\n",
    "            else:\n",
    "                min_node = self._find_min(node.right)\n",
    "                node.val = min_node.val\n",
    "                node.right = self._delete(min_node.val, node.right)\n",
    "        return node\n",
    "    # Метод для поиска минимального узла в дереве\n",
    "    def find_min(self):\n",
    "        return self._find_min(self.root)\n",
    "    # Вспомогательный метод для рекурсивного поиска минимального узла в дереве\n",
    "    def _find_min(self, node):\n",
    "        if node.left is None:\n",
    "            return node\n",
    "        else:\n",
    "            return self._find_min(node.left)\n",
    "    # Метод для поиска максимального узла в дереве\n",
    "    def find_max(self):\n",
    "        return self._find_max(self.root)\n",
    "    # Вспомогательный метод для рекурсивного поиска максимального узла в дереве\n",
    "    def _find_max(self, node):\n",
    "        if node.right is None:\n",
    "            return node\n",
    "        else:\n",
    "            return self._find_max(node.right)\n",
    "# Генерация начального набора случайных данных\n",
    "import random\n",
    "data = [random.randint(1, 100) for i in range(10)]\n",
    "print('Исходные данные:', data)\n",
    "# Создание бинарного дерева и добавление элементов\n",
    "bst = BinarySearchTree()\n",
    "for num in data:\n",
    "    bst.insert(num)\n",
    "print('Бинарное дерево:', bst)\n",
    "# Поиск элемента в дереве\n",
    "search_key = random.choice(data)\n",
    "result = bst.search(search_key)\n",
    "if result is not None:\n",
    "    print('Элемент', search_key, 'найден в дереве')\n",
    "else:\n",
    "    print('Элемент', search_key, 'не найден в дереве')\n",
    "# Удаление элемента из дерева\n",
    "delete_key = random.choice(data)\n",
    "bst.delete(delete_key)\n",
    "print('Бинарное дерево после удаления элемента', delete_key, ':', bst)\n",
    "# Поиск минимального и максимального элементов в дереве\n",
    "min_node = bst.find_min()\n",
    "print('Минимальный элемент в дереве:', min_node.val)\n",
    "max_node = bst.find_max()\n",
    "print('Максимальный элемент в дереве:', max_node.val)"
   ],
   "metadata": {
    "colab": {
     "base_uri": "https://localhost:8080/"
    },
    "id": "bg-nW5UqvCrT",
    "executionInfo": {
     "status": "ok",
     "timestamp": 1681542363994,
     "user_tz": -180,
     "elapsed": 265,
     "user": {
      "displayName": "Sergey Simonov",
      "userId": "14094206399671235086"
     }
    },
    "outputId": "f2d4cf4c-2326-47a3-9ea6-d2ccc1d1b38d",
    "ExecuteTime": {
     "end_time": "2025-04-17T19:18:42.641936Z",
     "start_time": "2025-04-17T19:18:42.635811Z"
    }
   },
   "outputs": [
    {
     "name": "stdout",
     "output_type": "stream",
     "text": [
      "Исходные данные: [60, 14, 55, 100, 61, 16, 36, 75, 21, 77]\n",
      "Бинарное дерево: <__main__.BinarySearchTree object at 0x10d704bc0>\n",
      "Элемент 60 найден в дереве\n",
      "Бинарное дерево после удаления элемента 100 : <__main__.BinarySearchTree object at 0x10d704bc0>\n",
      "Минимальный элемент в дереве: 14\n",
      "Максимальный элемент в дереве: 77\n"
     ]
    }
   ],
   "execution_count": 6
  },
  {
   "cell_type": "markdown",
   "source": [],
   "metadata": {
    "id": "03jVDdRz0ymL"
   }
  },
  {
   "cell_type": "markdown",
   "source": [
    "Бинарный поиск"
   ],
   "metadata": {
    "id": "Io6G6zs3wtoU"
   }
  },
  {
   "cell_type": "code",
   "source": [
    "# Функция бинарного поиска принимает на вход отсортированный массив и элемент, который нужно найти\n",
    "def binary_search(arr, item):\n",
    "    low = 0 # Нижняя граница для поиска устанавливается на первый элемент массива\n",
    "    high = len(arr) - 1 # Верхняя граница для поиска устанавливается на последний элемент массива\n",
    "    while low <= high: # Пока нижняя граница не станет больше верхней границы\n",
    "        mid = (low + high) // 2 # Находим средний элемент массива\n",
    "        if arr[mid] == item: # Если средний элемент равен искомому элементу, то возвращаем его индекс\n",
    "            return mid\n",
    "        elif arr[mid] > item: # Если средний элемент больше искомого, то ищем элемент в левой половине массива\n",
    "            high = mid - 1\n",
    "        else: # Иначе ищем элемент в правой половине массива\n",
    "            low = mid + 1\n",
    "    return None # Если элемент не найден, то возвращаем None\n",
    "# Пример использования функции\n",
    "my_list = [1, 3, 5, 7, 9]\n",
    "print(binary_search(my_list, 3)) # Выводит: 1 (так как элемент 3 находится на индексе 1 в списке)\n",
    "print(binary_search(my_list, -1)) # Выводит: None (так как элемент -1 не найден в списке)"
   ],
   "metadata": {
    "colab": {
     "base_uri": "https://localhost:8080/"
    },
    "id": "4Du2YvLHxUoV",
    "executionInfo": {
     "status": "ok",
     "timestamp": 1681542960476,
     "user_tz": -180,
     "elapsed": 236,
     "user": {
      "displayName": "Sergey Simonov",
      "userId": "14094206399671235086"
     }
    },
    "outputId": "b818e1df-bee0-4008-e49c-57e2854b9666"
   },
   "execution_count": 12,
   "outputs": [
    {
     "output_type": "stream",
     "name": "stdout",
     "text": [
      "1\n",
      "None\n"
     ]
    }
   ]
  },
  {
   "cell_type": "code",
   "source": [
    "# Функция генерации списка случайных элементов\n",
    "import random\n",
    "def generate_list(length, start, stop):\n",
    "    return [random.randint(start, stop) for _ in range(length)]\n",
    "# Пример использования функции\n",
    "my_list = generate_list(10, 0, 100) # Генерируем список из 10 случайных элементов от 0 до 100\n",
    "print(my_list)\n",
    "# Ввод искомого элемента\n",
    "item = int(input(\"Введите искомый элемент: \"))\n",
    "# Функция бинарного поиска принимает на вход отсортированный массив и элемент, который нужно найти\n",
    "def binary_search(arr, item):\n",
    "    low = 0 # Нижняя граница для поиска устанавливается на первый элемент массива\n",
    "    high = len(arr) - 1 # Верхняя граница для поиска устанавливается на последний элемент массива\n",
    "    while low <= high: # Пока нижняя граница не станет больше верхней границы\n",
    "        mid = (low + high) // 2 # Находим средний элемент массива\n",
    "        if arr[mid] == item: # Если средний элемент равен искомому элементу, то возвращаем его индекс\n",
    "            return mid\n",
    "        elif arr[mid] > item: # Если средний элемент больше искомого, то ищем элемент в левой половине массива\n",
    "            high = mid - 1\n",
    "        else: # Иначе ищем элемент в правой половине массива\n",
    "            low = mid + 1\n",
    "    return None # Если элемент не найден, то возвращаем None\n",
    "# Пример использования функции\n",
    "result = binary_search(my_list, item)\n",
    "if result is not None:\n",
    "    print(f\"Элемент {item} найден на индексе {result}\")\n",
    "else:\n",
    "    print(f\"Элемент {item} не найден\")\n",
    "# Добавление элемента в список\n",
    "new_item = int(input(\"Введите новый элемент: \"))\n",
    "my_list.append(new_item)\n",
    "my_list.sort()\n",
    "print(my_list)\n",
    "# Удаление элемента из списка\n",
    "remove_item = int(input(\"Введите элемент, который нужно удалить: \"))\n",
    "if remove_item in my_list:\n",
    "    my_list.remove(remove_item)\n",
    "    print(my_list)\n",
    "else:\n",
    "    print(f\"Элемент {remove_item} не найден в списке\")"
   ],
   "metadata": {
    "colab": {
     "base_uri": "https://localhost:8080/"
    },
    "id": "2IhBw0ZRxvV0",
    "executionInfo": {
     "status": "ok",
     "timestamp": 1681543100385,
     "user_tz": -180,
     "elapsed": 28150,
     "user": {
      "displayName": "Sergey Simonov",
      "userId": "14094206399671235086"
     }
    },
    "outputId": "a73c84c9-68cf-4164-cf88-3367507e02cc"
   },
   "execution_count": 13,
   "outputs": [
    {
     "output_type": "stream",
     "name": "stdout",
     "text": [
      "[70, 22, 82, 3, 81, 80, 38, 7, 95, 78]\n",
      "Введите искомый элемент: 12\n",
      "Элемент 12 не найден\n",
      "Введите новый элемент: 14\n",
      "[3, 7, 14, 22, 38, 70, 78, 80, 81, 82, 95]\n",
      "Введите элемент, который нужно удалить: 0\n",
      "Элемент 0 не найден в списке\n"
     ]
    }
   ]
  },
  {
   "cell_type": "markdown",
   "source": [
    "Фибоначчиев поиск"
   ],
   "metadata": {
    "id": "zjVDNTg6yjrJ"
   }
  },
  {
   "cell_type": "code",
   "source": [
    "def fibonacci_search(arr, item):\n",
    "    # Определяем числа Фибоначчи\n",
    "    fib1, fib2 = 0, 1\n",
    "    fib_sum = fib1 + fib2\n",
    "    while fib_sum < len(arr):\n",
    "        fib1 = fib2\n",
    "        fib2 = fib_sum\n",
    "        fib_sum = fib1 + fib2\n",
    "    # Инициализируем границы для поиска элемента\n",
    "    offset = -1\n",
    "    while fib_sum > 1:\n",
    "        i = min(offset + fib1, len(arr) - 1)\n",
    "        if arr[i] < item:\n",
    "            fib_sum = fib2\n",
    "            fib2 = fib1\n",
    "            fib1 = fib_sum - fib2\n",
    "            offset = i\n",
    "        elif arr[i] > item:\n",
    "            fib_sum = fib1\n",
    "            fib2 = fib2 - fib1\n",
    "            fib1 = fib_sum - fib2\n",
    "        else:\n",
    "            return i\n",
    "    if fib2 == 1 and arr[offset+1] == item:\n",
    "        return offset + 1\n",
    "    return None\n",
    "# Пример использования функции\n",
    "arr = [1, 3, 5, 7, 9]\n",
    "item = 7\n",
    "result = fibonacci_search(arr, item)\n",
    "if result is not None:\n",
    "    print(f\"Элемент {item} найден на индексе {result}\")\n",
    "else:\n",
    "    print(f\"Элемент {item} не найден\")"
   ],
   "metadata": {
    "colab": {
     "base_uri": "https://localhost:8080/"
    },
    "id": "wMdAMFkhymL-",
    "executionInfo": {
     "status": "ok",
     "timestamp": 1681543294929,
     "user_tz": -180,
     "elapsed": 261,
     "user": {
      "displayName": "Sergey Simonov",
      "userId": "14094206399671235086"
     }
    },
    "outputId": "eb8ec74e-eadd-4bbc-f42c-90e074d3ad49"
   },
   "execution_count": 14,
   "outputs": [
    {
     "output_type": "stream",
     "name": "stdout",
     "text": [
      "Элемент 7 найден на индексе 3\n"
     ]
    }
   ]
  },
  {
   "cell_type": "markdown",
   "source": [
    "Интерполяционный поиск"
   ],
   "metadata": {
    "id": "IZWk1ZKX0zxS"
   }
  },
  {
   "cell_type": "code",
   "source": [
    "def interpolation_search(arr, item):\n",
    "    low = 0 # Нижняя граница для поиска устанавливается на первый элемент массива\n",
    "    high = len(arr) - 1 # Верхняя граница для поиска устанавливается на последний элемент массива\n",
    "    while low <= high and item >= arr[low] and item <= arr[high]: # Пока искомый элемент находится в интервале между нижней и верхней границами\n",
    "        pos = low + ((item - arr[low]) * (high - low) // (arr[high] - arr[low])) # Определяем приблизительную позицию искомого элемента с помощью интерполяции\n",
    "        if arr[pos] == item: # Если элемент на найденной позиции равен искомому элементу, то возвращаем его индекс\n",
    "            return pos\n",
    "        elif arr[pos] < item: # Если элемент на найденной позиции меньше искомого, то ищем элемент только в правой половине массива\n",
    "            low = pos + 1\n",
    "        else: # Иначе ищем элемент только в левой половине массива\n",
    "            high = pos - 1\n",
    "    return None # Если элемент не найден, то возвращаем None\n",
    "# Пример использования функции\n",
    "arr = [1, 2, 4, 6, 8, 10, 12, 14, 16, 18, 20]\n",
    "item = 16\n",
    "result = interpolation_search(arr, item)\n",
    "if result is not None:\n",
    "    print(f\"Элемент {item} найден на индексе {result}\")\n",
    "else:\n",
    "    print(f\"Элемент {item} не найден\")"
   ],
   "metadata": {
    "colab": {
     "base_uri": "https://localhost:8080/"
    },
    "id": "zY8INnAh02Ef",
    "executionInfo": {
     "status": "ok",
     "timestamp": 1681543884086,
     "user_tz": -180,
     "elapsed": 263,
     "user": {
      "displayName": "Sergey Simonov",
      "userId": "14094206399671235086"
     }
    },
    "outputId": "4c75619f-da07-42d5-8b56-a9623802962c"
   },
   "execution_count": 15,
   "outputs": [
    {
     "output_type": "stream",
     "name": "stdout",
     "text": [
      "Элемент 16 найден на индексе 8\n"
     ]
    }
   ]
  },
  {
   "cell_type": "code",
   "source": [],
   "metadata": {
    "id": "-plA3Hu-q6Lq"
   },
   "execution_count": null,
   "outputs": []
  },
  {
   "cell_type": "code",
   "source": [],
   "metadata": {
    "id": "G-tIF4eu0i4Q"
   },
   "execution_count": null,
   "outputs": []
  }
 ]
}
