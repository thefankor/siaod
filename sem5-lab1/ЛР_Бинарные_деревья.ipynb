{
  "cells": [
    {
      "cell_type": "markdown",
      "id": "1248b0dc",
      "metadata": {
        "id": "1248b0dc"
      },
      "source": [
        "# Лабораторная работа: Бинарные деревья (BST, обходы, балансировка)\n",
        "\n",
        "## Цели работы\n",
        "1. Закрепить базовые определения: узел, степень узла, высота/глубина, листья, полнота/сбалансированность.\n",
        "2. Реализовать структуры и алгоритмы: узел дерева, вставка/поиск/удаление в BST, обходы DFS (LNR/ NLR/ LRN) и BFS.\n",
        "3. Научиться оценивать сложность операций и экспериментально измерять их на наборах данных.\n",
        "4. Научиться проверять свойства дерева: высота, сбалансированность (по критерию |h(left) - h(right)| ≤ 1), корректность BST-инварианта.\n",
        "5. Освоить простую визуализацию структуры дерева в текстовом виде.\n",
        "\n",
        "## Краткая теория\n",
        "**Бинарное дерево** — иерархическая структура данных, где у каждого узла не более двух потомков (левый и правый). **Двоичное дерево поиска (BST)** поддерживает инвариант: для любого узла `x` все элементы в левом поддереве меньше `x.key`, а в правом — больше. Классические обходы: `inorder (LNR)`, `preorder (NLR)`, `postorder (LRN)`; обход в ширину — `BFS` с очередью. Амортизированная сложность для случайных вставок в BST близка к `O(log n)`, в худшем случае (вырожденное дерево) — `O(n)`.\n",
        "\n",
        "В качестве опорного материала используйте предоставленную лекцию по бинарным деревьям. См. конспект/слайды.\n",
        "\n",
        "\n"
      ]
    },
    {
      "cell_type": "code",
      "execution_count": null,
      "id": "18217038",
      "metadata": {
        "id": "18217038"
      },
      "outputs": [],
      "source": [
        "# Базовые импорты (старайтесь не добавлять внешние библиотеки)\n",
        "from collections import deque\n",
        "import random, math, time\n",
        "from typing import Optional, List, Tuple, Any\n",
        "\n",
        "class Node:\n",
        "    __slots__ = (\"key\", \"left\", \"right\")\n",
        "    def __init__(self, key: int, left: 'Optional[Node]'=None, right: 'Optional[Node]'=None):\n",
        "        self.key = key\n",
        "        self.left = left\n",
        "        self.right = right\n",
        "\n",
        "    def __repr__(self):\n",
        "        return f\"Node({self.key})\"\n"
      ]
    },
    {
      "cell_type": "markdown",
      "id": "1f65eb33",
      "metadata": {
        "id": "1f65eb33"
      },
      "source": [
        "### Задача 1. Конструктор BST и обходы\n",
        "Реализуйте:\n",
        "1. `bst_insert(root, key)` — вставка ключа в BST.\n",
        "2. `bst_search(root, key)` — поиск ключа.\n",
        "3. Обходы: `inorder`, `preorder`, `postorder`, `bfs`.\n",
        "4. Сервис: `build_bst(iterable)` — постройте BST последовательными вставками.\n"
      ]
    },
    {
      "cell_type": "code",
      "execution_count": null,
      "id": "fb09491d",
      "metadata": {
        "id": "fb09491d"
      },
      "outputs": [],
      "source": [
        "def bst_insert(root: Optional[Node], key: int) -> Node:\n",
        "    # TODO: рекурсивная либо итеративная вставка\n",
        "    if root is None:\n",
        "        return Node(key)\n",
        "    cur = root\n",
        "    while True:\n",
        "        if key < cur.key:\n",
        "            if cur.left is None:\n",
        "                cur.left = Node(key)\n",
        "                break\n",
        "            cur = cur.left\n",
        "        elif key > cur.key:\n",
        "            if cur.right is None:\n",
        "                cur.right = Node(key)\n",
        "                break\n",
        "            cur = cur.right\n",
        "        else:\n",
        "            # уже существует — ничего не делаем\n",
        "            break\n",
        "    return root\n",
        "\n",
        "def bst_search(root: Optional[Node], key: int) -> Optional[Node]:\n",
        "    # TODO: итеративный поиск\n",
        "    cur = root\n",
        "    while cur:\n",
        "        if key < cur.key:\n",
        "            cur = cur.left\n",
        "        elif key > cur.key:\n",
        "            cur = cur.right\n",
        "        else:\n",
        "            return cur\n",
        "    return None\n",
        "\n",
        "def inorder(root: Optional[Node]) -> List[int]:\n",
        "    res = []\n",
        "    def dfs(node):\n",
        "        if not node: return\n",
        "        dfs(node.left); res.append(node.key); dfs(node.right)\n",
        "    dfs(root)\n",
        "    return res\n",
        "\n",
        "def preorder(root: Optional[Node]) -> List[int]:\n",
        "    res = []\n",
        "    def dfs(node):\n",
        "        if not node: return\n",
        "        res.append(node.key); dfs(node.left); dfs(node.right)\n",
        "    dfs(root)\n",
        "    return res\n",
        "\n",
        "def postorder(root: Optional[Node]) -> List[int]:\n",
        "    res = []\n",
        "    def dfs(node):\n",
        "        if not node: return\n",
        "        dfs(node.left); dfs(node.right); res.append(node.key)\n",
        "    dfs(root)\n",
        "    return res\n",
        "\n",
        "def bfs(root: Optional[Node]) -> List[int]:\n",
        "    if not root: return []\n",
        "    q, res = deque([root]), []\n",
        "    while q:\n",
        "        v = q.popleft()\n",
        "        res.append(v.key)\n",
        "        if v.left: q.append(v.left)\n",
        "        if v.right: q.append(v.right)\n",
        "    return res\n",
        "\n",
        "def build_bst(iterable) -> Optional[Node]:\n",
        "    root = None\n",
        "    for x in iterable:\n",
        "        root = bst_insert(root, x)\n",
        "    return root\n"
      ]
    },
    {
      "cell_type": "code",
      "execution_count": null,
      "id": "1f1f69c0",
      "metadata": {
        "id": "1f1f69c0"
      },
      "outputs": [],
      "source": [
        "# Автотесты к Задаче 1\n",
        "data = [7, 3, 9, 1, 5, 8, 10]\n",
        "root = build_bst(data)\n",
        "assert inorder(root) == [1,3,5,7,8,9,10], \"inorder неверен\"\n",
        "assert preorder(root) == [7,3,1,5,9,8,10], \"preorder неверен\"\n",
        "assert postorder(root) == [1,5,3,8,10,9,7], \"postorder неверен\"\n",
        "assert bfs(root) == [7,3,9,1,5,8,10], \"bfs неверен\"\n",
        "assert bst_search(root, 8) and bst_search(root, 8).key == 8, \"search не находит 8\"\n",
        "assert bst_search(root, 2) is None, \"search должен вернуть None для отсутствующих ключей\"\n",
        "print(\"Задача 1 — OK\")\n"
      ]
    },
    {
      "cell_type": "markdown",
      "id": "d446f3b7",
      "metadata": {
        "id": "d446f3b7"
      },
      "source": [
        "### Задача 2. Высота, сбалансированность и инвариант BST\n",
        "Реализуйте:\n",
        "- `height(root)` — высота дерева (кол-во рёбер на самом длинном пути; для пустого — -1).\n",
        "- `is_balanced(root)` — сбалансировано ли дерево по правилу |h(L) - h(R)| ≤ 1 для каждого узла.\n",
        "- `is_valid_bst(root)` — проверка инварианта BST (строгое неравенство).\n"
      ]
    },
    {
      "cell_type": "code",
      "execution_count": null,
      "id": "83087057",
      "metadata": {
        "id": "83087057"
      },
      "outputs": [],
      "source": [
        "def height(root: Optional[Node]) -> int:\n",
        "    if root is None: return -1\n",
        "    return 1 + max(height(root.left), height(root.right))\n",
        "\n",
        "def is_balanced(root: Optional[Node]) -> bool:\n",
        "    ok = True\n",
        "    def dfs(node) -> int:\n",
        "        nonlocal ok\n",
        "        if not node: return -1\n",
        "        hl = dfs(node.left)\n",
        "        hr = dfs(node.right)\n",
        "        if abs(hl - hr) > 1: ok = False\n",
        "        return 1 + max(hl, hr)\n",
        "    dfs(root)\n",
        "    return ok\n",
        "\n",
        "def is_valid_bst(root: Optional[Node]) -> bool:\n",
        "    def check(node, lo, hi) -> bool:\n",
        "        if not node: return True\n",
        "        if not (lo < node.key < hi): return False\n",
        "        return check(node.left, lo, node.key) and check(node.right, node.key, hi)\n",
        "    return check(root, float(\"-inf\"), float(\"inf\"))\n"
      ]
    },
    {
      "cell_type": "code",
      "execution_count": null,
      "id": "8384d220",
      "metadata": {
        "id": "8384d220"
      },
      "outputs": [],
      "source": [
        "# Автотесты к Задаче 2\n",
        "root = build_bst([4,2,6,1,3,5,7])\n",
        "assert height(root) == 2\n",
        "assert is_balanced(root) is True\n",
        "assert is_valid_bst(root) is True\n",
        "\n",
        "# создадим несбалансированное дерево\n",
        "root2 = None\n",
        "for x in range(10):\n",
        "    root2 = bst_insert(root2, x)\n",
        "assert is_balanced(root2) is False\n",
        "assert is_valid_bst(root2) is True\n",
        "print(\"Задача 2 — OK\")\n"
      ]
    },
    {
      "cell_type": "markdown",
      "id": "bc13981d",
      "metadata": {
        "id": "bc13981d"
      },
      "source": [
        "### Задача 3. Удаление в BST, k-й по порядку элемент, LCA\n",
        "Реализуйте:\n",
        "- `bst_delete(root, key)` — удаление узла из BST (3 случая: лист, один ребёнок, два ребёнка).\n",
        "- `kth_smallest(root, k)` — k-й статистический (0-индексация по возрастанию).\n",
        "- `lca_bst(root, a, b)` — Lowest Common Ancestor в BST.\n"
      ]
    },
    {
      "cell_type": "code",
      "execution_count": null,
      "id": "138e09d0",
      "metadata": {
        "id": "138e09d0"
      },
      "outputs": [],
      "source": [
        "def bst_delete(root: Optional[Node], key: int) -> Optional[Node]:\n",
        "    if root is None: return None\n",
        "    if key < root.key:\n",
        "        root.left = bst_delete(root.left, key)\n",
        "    elif key > root.key:\n",
        "        root.right = bst_delete(root.right, key)\n",
        "    else:\n",
        "        # нашли\n",
        "        if root.left is None:\n",
        "            return root.right\n",
        "        if root.right is None:\n",
        "            return root.left\n",
        "        # два ребёнка: ищем min в правом поддереве\n",
        "        cur = root.right\n",
        "        while cur.left:\n",
        "            cur = cur.left\n",
        "        root.key = cur.key\n",
        "        root.right = bst_delete(root.right, cur.key)\n",
        "    return root\n",
        "\n",
        "def kth_smallest(root: Optional[Node], k: int) -> int:\n",
        "    # inorder-порядок\n",
        "    stack, cur = [], root\n",
        "    count = 0\n",
        "    while stack or cur:\n",
        "        while cur:\n",
        "            stack.append(cur)\n",
        "            cur = cur.left\n",
        "        cur = stack.pop()\n",
        "        if count == k:\n",
        "            return cur.key\n",
        "        count += 1\n",
        "        cur = cur.right\n",
        "    raise IndexError(\"k is out of range\")\n",
        "\n",
        "def lca_bst(root: Optional[Node], a: int, b: int) -> Optional[Node]:\n",
        "    cur = root\n",
        "    lo, hi = min(a,b), max(a,b)\n",
        "    while cur:\n",
        "        if hi < cur.key:\n",
        "            cur = cur.left\n",
        "        elif lo > cur.key:\n",
        "            cur = cur.right\n",
        "        else:\n",
        "            return cur\n",
        "    return None\n"
      ]
    },
    {
      "cell_type": "code",
      "execution_count": null,
      "id": "3fa09e2c",
      "metadata": {
        "id": "3fa09e2c"
      },
      "outputs": [],
      "source": [
        "# Автотесты к Задаче 3\n",
        "root = build_bst([20,10,30,5,15,25,40,13,17])\n",
        "assert inorder(root) == sorted([20,10,30,5,15,25,40,13,17])\n",
        "root = bst_delete(root, 10)\n",
        "assert inorder(root) == [5,13,15,17,20,25,30,40]\n",
        "assert kth_smallest(root, 0) == 5\n",
        "assert kth_smallest(root, 3) == 17\n",
        "assert lca_bst(root, 5, 17).key == 13\n",
        "print(\"Задача 3 — OK\")\n"
      ]
    },
    {
      "cell_type": "markdown",
      "id": "a0f4abb7",
      "metadata": {
        "id": "a0f4abb7"
      },
      "source": [
        "### Задача 4. Построение по уровневому представлению и ASCII-визуализация\n",
        "1. Реализуйте `build_tree_level(lst)`, где `lst` — список значений уровнями (используйте `None` для пустых узлов).\n",
        "2. Реализуйте `ascii_tree(root)` — вывод дерева в виде моноширинного текста.\n"
      ]
    },
    {
      "cell_type": "code",
      "execution_count": null,
      "id": "87e15eb2",
      "metadata": {
        "id": "87e15eb2"
      },
      "outputs": [],
      "source": [
        "def build_tree_level(lst: List[Optional[int]]) -> Optional[Node]:\n",
        "    if not lst: return None\n",
        "    it = iter(lst)\n",
        "    root_val = next(it)\n",
        "    if root_val is None: return None\n",
        "    root = Node(root_val)\n",
        "    q = deque([root])\n",
        "    for a,b in zip(it, it):\n",
        "        cur = q.popleft()\n",
        "        if a is not None:\n",
        "            cur.left = Node(a); q.append(cur.left)\n",
        "        if b is not None:\n",
        "            cur.right = Node(b); q.append(cur.right)\n",
        "    return root\n",
        "\n",
        "def ascii_tree(root: Optional[Node]) -> str:\n",
        "    if not root: return \"<empty>\"\n",
        "    # Вернём список строк для каждого поддерева\n",
        "    def _display(node):\n",
        "        if node is None:\n",
        "            return [\"\"] , 0, 0, 0\n",
        "        line = str(node.key)\n",
        "        if not node.left and not node.right:\n",
        "            return [line], len(line), 1, len(line)//2\n",
        "        left, n, p, x = _display(node.left)\n",
        "        right, m, q, y = _display(node.right)\n",
        "        s = len(line)\n",
        "        first_line = (x+1)*\" \" + (n-x-1)*\" \" + line + y*\" \" + (m-y)*\" \"\n",
        "        second_line = x*\" \" + \"/\" + (n-x-1 + s + y)*\" \" + \"\\\\\" + (m-y-1)*\" \"\n",
        "        if n < 1: left = []\n",
        "        if m < 1: right = []\n",
        "        if len(left) < len(right):\n",
        "            left += [\" \" * n] * (len(right)-len(left))\n",
        "        elif len(right) < len(left):\n",
        "            right += [\" \" * m] * (len(left)-len(right))\n",
        "        zipped_lines = zip(left, right)\n",
        "        lines = [first_line, second_line] + [a + s*\" \" + b for a,b in zipped_lines]\n",
        "        return lines, n + s + m, max(p,q) + 2, n + s//2\n",
        "    lines, *_ = _display(root)\n",
        "    return \"\\n\".join(lines)\n"
      ]
    },
    {
      "cell_type": "code",
      "execution_count": null,
      "id": "7aa2de5e",
      "metadata": {
        "id": "7aa2de5e"
      },
      "outputs": [],
      "source": [
        "# Автотесты к Задаче 4\n",
        "root = build_tree_level([7,3,9,1,5,8,10])\n",
        "print(ascii_tree(root))\n",
        "print(\"Задача 4 — визуализация напечатана (проверьте структурно).\")\n"
      ]
    },
    {
      "cell_type": "markdown",
      "id": "41f79ffd",
      "metadata": {
        "id": "41f79ffd"
      },
      "source": [
        "## Контрольные вопросы\n",
        "1. Чем различаются `inorder`, `preorder`, `postorder`? Для какого обхода BST даёт отсортированную последовательность ключей и почему?\n",
        "2. Приведите пример последовательности вставок, при которой высота BST равна `n-1`.\n",
        "3. Почему в худшем случае сложность поиска/вставки в BST равна `O(n)`? Как этого избежать?\n",
        "4. В чём идея балансировки (напр., AVL/Red-Black)? Какой инвариант они поддерживают поверх инварианта BST?\n",
        "5. Какие преимущества и недостатки у представления дерева в виде связанной структуры узлов\n"
      ]
    },
    {
      "cell_type": "code",
      "source": [],
      "metadata": {
        "id": "YsXSfgPjhqJX"
      },
      "id": "YsXSfgPjhqJX",
      "execution_count": null,
      "outputs": []
    }
  ],
  "metadata": {
    "colab": {
      "provenance": []
    }
  },
  "nbformat": 4,
  "nbformat_minor": 5
}