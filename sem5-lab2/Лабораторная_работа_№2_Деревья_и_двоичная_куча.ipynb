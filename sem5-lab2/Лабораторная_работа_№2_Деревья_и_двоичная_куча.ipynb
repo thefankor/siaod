{
  "cells": [
    {
      "cell_type": "markdown",
      "id": "97cc36c8",
      "metadata": {
        "id": "97cc36c8"
      },
      "source": [
        "# Лабораторная работа: Деревья и двоичная куча\n",
        "\n",
        "В этой расширенной лабораторной работе вы изучите различные виды деревьев, реализуете двоичную **max-кучу** и решите практические задачи с её использованием."
      ]
    },
    {
      "cell_type": "markdown",
      "id": "80dc5bba",
      "metadata": {
        "id": "80dc5bba"
      },
      "source": [
        "## Цели\n",
        "- Изучить различные виды древовидных структур данных\n",
        "- Реализовать N-арные деревья, BST и Trie\n",
        "- Освоить двоичную кучу и её основные операции\n",
        "- Применить кучи для решения практических алгоритмических задач\n",
        "- Сравнить производительность различных структур данных"
      ]
    },
    {
      "cell_type": "code",
      "execution_count": null,
      "id": "93e1eab2",
      "metadata": {
        "id": "93e1eab2"
      },
      "outputs": [],
      "source": [
        "import random\n",
        "import time\n",
        "import heapq\n",
        "from typing import List, Optional\n",
        "\n",
        "# Для визуализации\n",
        "try:\n",
        "    from graphviz import Digraph\n",
        "except ImportError:\n",
        "    !pip install graphviz --quiet\n",
        "    from graphviz import Digraph"
      ]
    },
    {
      "cell_type": "markdown",
      "id": "67800910",
      "metadata": {
        "id": "67800910"
      },
      "source": [
        "## Часть 1: Виды деревьев\n",
        "\n",
        "Изучим различные виды древовидных структур данных и их применения."
      ]
    },
    {
      "cell_type": "markdown",
      "id": "6e0eed58",
      "metadata": {
        "id": "6e0eed58"
      },
      "source": [
        "### Задание 1.1: N-арное дерево\n",
        "Реализуйте N-арное дерево, где каждый узел может иметь произвольное количество потомков."
      ]
    },
    {
      "cell_type": "code",
      "execution_count": null,
      "id": "35937624",
      "metadata": {
        "id": "35937624"
      },
      "outputs": [],
      "source": [
        "class NaryNode:\n",
        "    def __init__(self, value):\n",
        "        self.value = value\n",
        "        self.children = []\n",
        "\n",
        "    def add_child(self, child):\n",
        "        \"\"\"Добавить потомка\"\"\"\n",
        "        # TODO: Добавьте ребенка в список children\n",
        "        pass\n",
        "\n",
        "    def find_child(self, value):\n",
        "        \"\"\"Найти потомка по значению\"\"\"\n",
        "        # TODO: Найти и вернуть потомка с заданным значением\n",
        "        pass\n",
        "\n",
        "    def print_tree(self, level=0):\n",
        "        \"\"\"Печать дерева с отступами\"\"\"\n",
        "        # TODO: Рекурсивная печать дерева с отступами\n",
        "        pass\n",
        "\n",
        "# Тест N-арного дерева\n",
        "root = NaryNode('A')\n",
        "root.add_child(NaryNode('B'))\n",
        "root.add_child(NaryNode('C'))\n",
        "root.add_child(NaryNode('D'))\n",
        "root.children[0].add_child(NaryNode('E'))\n",
        "root.children[0].add_child(NaryNode('F'))\n",
        "\n",
        "print(\"N-арное дерево:\")\n",
        "root.print_tree()"
      ]
    },
    {
      "cell_type": "markdown",
      "id": "9a54804a",
      "metadata": {
        "id": "9a54804a"
      },
      "source": [
        "### Задание 1.2: Префиксное дерево (Trie)\n",
        "Реализуйте Trie для эффективного поиска строк."
      ]
    },
    {
      "cell_type": "code",
      "execution_count": null,
      "id": "25f1f48b",
      "metadata": {
        "id": "25f1f48b"
      },
      "outputs": [],
      "source": [
        "class TrieNode:\n",
        "    def __init__(self):\n",
        "        self.children = {}\n",
        "        self.is_end_of_word = False\n",
        "\n",
        "class Trie:\n",
        "    def __init__(self):\n",
        "        self.root = TrieNode()\n",
        "\n",
        "    def insert(self, word):\n",
        "        \"\"\"Вставить слово в Trie\"\"\"\n",
        "        # TODO: Добавьте слово в дерево\n",
        "        pass\n",
        "\n",
        "    def search(self, word):\n",
        "        \"\"\"Найти слово в Trie\"\"\"\n",
        "        # TODO: Проверьте наличие полного слова\n",
        "        pass\n",
        "\n",
        "    def starts_with(self, prefix):\n",
        "        \"\"\"Проверить, есть ли слова с данным префиксом\"\"\"\n",
        "        # TODO: Проверьте наличие префикса\n",
        "        pass\n",
        "\n",
        "# Тест Trie\n",
        "trie = Trie()\n",
        "words = [\"hello\", \"world\", \"word\", \"hi\", \"hey\"]\n",
        "for word in words:\n",
        "    trie.insert(word)\n",
        "\n",
        "print(\"Поиск 'hello':\", trie.search(\"hello\"))\n",
        "print(\"Поиск 'hel':\", trie.search(\"hel\"))\n",
        "print(\"Префикс 'he':\", trie.starts_with(\"he\"))\n",
        "print(\"Префикс 'wor':\", trie.starts_with(\"wor\"))"
      ]
    },
    {
      "cell_type": "markdown",
      "id": "e20c0ee9",
      "metadata": {
        "id": "e20c0ee9"
      },
      "source": [
        "## Часть 2: Двоичная куча\n",
        "\n",
        "### Теория\n",
        "Двоичная куча — это почти полное бинарное дерево, удовлетворяющее свойству кучи: ключ каждого узла \\(\\ge\\) ключей потомков (для max-кучи). Основные операции выполняются за \\(O(\\log n)\\) благодаря ограниченной высоте дерева."
      ]
    },
    {
      "cell_type": "code",
      "execution_count": null,
      "id": "08dff59f",
      "metadata": {
        "id": "08dff59f"
      },
      "outputs": [],
      "source": [
        "class MaxHeap:\n",
        "    def __init__(self):\n",
        "        self.heap: List[int] = []\n",
        "\n",
        "    def _sift_up(self, idx: int) -> None:\n",
        "        # TODO: Реализуйте просеивание вверх\n",
        "        pass\n",
        "\n",
        "    def _sift_down(self, idx: int) -> None:\n",
        "        # TODO: Реализуйте просеивание вниз\n",
        "        pass\n",
        "\n",
        "    def insert(self, value: int) -> None:\n",
        "        \"\"\"Добавить элемент в кучу\"\"\"\n",
        "        # TODO: Добавить значение и вызвать _sift_up\n",
        "        pass\n",
        "\n",
        "    def extract_max(self):\n",
        "        \"\"\"Извлечь максимальный элемент из кучи\"\"\"\n",
        "        # TODO: Реализовать удаление корня и восстановление кучи\n",
        "        pass\n",
        "\n",
        "    def heapify(self, arr: List[int]):\n",
        "        \"\"\"Построить кучу из массива за O(n)\"\"\"\n",
        "        self.heap = arr[:]\n",
        "        # TODO: Реализуйте построчный вызов _sift_down начиная с последнего внутреннего узла\n",
        "        pass\n",
        "\n",
        "    def __len__(self):\n",
        "        return len(self.heap)\n",
        "\n",
        "    def __repr__(self):\n",
        "        return str(self.heap)"
      ]
    },
    {
      "cell_type": "code",
      "execution_count": null,
      "id": "e56dcfc1",
      "metadata": {
        "id": "e56dcfc1"
      },
      "outputs": [],
      "source": [
        "# Тесты базовой кучи\n",
        "heap = MaxHeap()\n",
        "for x in [50, 20, 70, 80, 60, 25, 90]:\n",
        "    heap.insert(x)\n",
        "print('Куча:', heap)\n",
        "print('Максимум:', heap.extract_max())\n",
        "print('После извлечения:', heap)"
      ]
    },
    {
      "cell_type": "code",
      "execution_count": null,
      "id": "68a9910c",
      "metadata": {
        "id": "68a9910c"
      },
      "outputs": [],
      "source": [
        "def heapsort(arr: List[int]) -> List[int]:\n",
        "    \"\"\"Сортировка кучей (max-heap). Верните новый отсортированный список.\"\"\"\n",
        "    # TODO: Реализуйте heapsort, используя методы вашего класса\n",
        "    pass\n",
        "\n",
        "# Проверьте на случайном массиве\n",
        "arr = random.sample(range(1000), 20)\n",
        "print('Исходный:', arr)\n",
        "print('Отсортированный:', heapsort(arr))"
      ]
    },
    {
      "cell_type": "markdown",
      "id": "b6b38d34",
      "metadata": {
        "id": "b6b38d34"
      },
      "source": [
        "## Часть 3: Практические задачи с использованием кучи\n",
        "\n",
        "Теперь применим кучу для решения реальных алгоритмических задач."
      ]
    },
    {
      "cell_type": "markdown",
      "id": "5834756e",
      "metadata": {
        "id": "5834756e"
      },
      "source": [
        "### Задание 3.1: K наибольших элементов\n",
        "Найдите K наибольших элементов в массиве за O(n log k)."
      ]
    },
    {
      "cell_type": "code",
      "execution_count": null,
      "id": "473a8d81",
      "metadata": {
        "id": "473a8d81"
      },
      "outputs": [],
      "source": [
        "def find_k_largest_heap(arr, k):\n",
        "    \"\"\"Найти k наибольших элементов используя min-heap размера k\"\"\"\n",
        "    # TODO: Используйте min-heap для поддержания k наибольших элементов\n",
        "    # Подсказка: используйте heapq (min-heap) и поддерживайте размер k\n",
        "    pass\n",
        "\n",
        "def find_k_largest_manual(arr, k):\n",
        "    \"\"\"Найти k наибольших элементов используя вашу реализацию MaxHeap\"\"\"\n",
        "    # TODO: Используйте вашу MaxHeap для решения задачи\n",
        "    pass\n",
        "\n",
        "# Тест\n",
        "test_array = [3, 7, 1, 9, 4, 6, 8, 2, 5]\n",
        "k = 3\n",
        "\n",
        "print(\"Исходный массив:\", test_array)\n",
        "print(\"3 наибольших (heapq):\", find_k_largest_heap(test_array, k))\n",
        "print(\"3 наибольших (MaxHeap):\", find_k_largest_manual(test_array, k))"
      ]
    },
    {
      "cell_type": "markdown",
      "id": "55f96fd8",
      "metadata": {
        "id": "55f96fd8"
      },
      "source": [
        "### Задание 3.2: Медиана в потоке данных\n",
        "Реализуйте структуру данных для нахождения медианы в потоке чисел."
      ]
    },
    {
      "cell_type": "code",
      "execution_count": null,
      "id": "d58dfdcd",
      "metadata": {
        "id": "d58dfdcd"
      },
      "outputs": [],
      "source": [
        "class MedianFinder:\n",
        "    \"\"\"Найти медиану в потоке данных используя две кучи\"\"\"\n",
        "\n",
        "    def __init__(self):\n",
        "        # TODO: Инициализируйте две кучи:\n",
        "        # max_heap - для меньшей половины (используйте отрицательные числа)\n",
        "        # min_heap - для большей половины\n",
        "        pass\n",
        "\n",
        "    def add_number(self, num):\n",
        "        \"\"\"Добавить число в поток\"\"\"\n",
        "        # TODO: Добавьте число в соответствующую кучу\n",
        "        # и балансируйте размеры куч\n",
        "        pass\n",
        "\n",
        "    def find_median(self):\n",
        "        \"\"\"Найти медиану текущего потока\"\"\"\n",
        "        # TODO: Вычислите медиану на основе размеров и вершин куч\n",
        "        pass\n",
        "\n",
        "# Тест MedianFinder\n",
        "mf = MedianFinder()\n",
        "numbers = [1, 5, 2, 6, 3, 4]\n",
        "for num in numbers:\n",
        "    mf.add_number(num)\n",
        "    print(f\"Добавлено {num}, медиана: {mf.find_median()}\")"
      ]
    },
    {
      "cell_type": "markdown",
      "id": "97b259f4",
      "metadata": {
        "id": "97b259f4"
      },
      "source": [
        "### Задание 3.3: Слияние K отсортированных массивов\n",
        "Объедините K отсортированных массивов в один отсортированный массив."
      ]
    },
    {
      "cell_type": "code",
      "execution_count": null,
      "id": "bfdec26f",
      "metadata": {
        "id": "bfdec26f"
      },
      "outputs": [],
      "source": [
        "def merge_k_sorted_arrays(arrays):\n",
        "    \"\"\"Слить K отсортированных массивов используя min-heap\"\"\"\n",
        "    # TODO: Используйте кучу для эффективного слияния\n",
        "    # Подсказка: храните в куче кортежи (значение, индекс_массива, индекс_элемента)\n",
        "    pass\n",
        "\n",
        "# Тест\n",
        "arrays = [\n",
        "    [1, 4, 7],\n",
        "    [2, 5, 8],\n",
        "    [3, 6, 9]\n",
        "]\n",
        "\n",
        "result = merge_k_sorted_arrays(arrays)\n",
        "print(\"Исходные массивы:\", arrays)\n",
        "print(\"Объединенный массив:\", result)"
      ]
    },
    {
      "cell_type": "markdown",
      "id": "a3c74c20",
      "metadata": {
        "id": "a3c74c20"
      },
      "source": [
        "### Задание 3.4: Планировщик задач с приоритетами\n",
        "Реализуйте планировщик задач, где каждая задача имеет приоритет."
      ]
    },
    {
      "cell_type": "code",
      "execution_count": null,
      "id": "d9c55aeb",
      "metadata": {
        "id": "d9c55aeb"
      },
      "outputs": [],
      "source": [
        "class Task:\n",
        "    def __init__(self, name, priority, duration):\n",
        "        self.name = name\n",
        "        self.priority = priority  # Чем больше число, тем выше приоритет\n",
        "        self.duration = duration\n",
        "\n",
        "    def __lt__(self, other):\n",
        "        # Для правильной работы с heapq\n",
        "        return self.priority > other.priority  # Инвертируем для max-heap поведения\n",
        "\n",
        "    def __repr__(self):\n",
        "        return f\"Task({self.name}, p={self.priority}, d={self.duration})\"\n",
        "\n",
        "class TaskScheduler:\n",
        "    def __init__(self):\n",
        "        # TODO: Инициализируйте кучу для задач\n",
        "        pass\n",
        "\n",
        "    def add_task(self, task):\n",
        "        \"\"\"Добавить задачу в планировщик\"\"\"\n",
        "        # TODO: Добавьте задачу в кучу\n",
        "        pass\n",
        "\n",
        "    def get_next_task(self):\n",
        "        \"\"\"Получить задачу с наивысшим приоритетом\"\"\"\n",
        "        # TODO: Извлеките задачу с максимальным приоритетом\n",
        "        pass\n",
        "\n",
        "    def has_tasks(self):\n",
        "        \"\"\"Проверить наличие задач\"\"\"\n",
        "        # TODO: Проверьте, есть ли задачи в планировщике\n",
        "        pass\n",
        "\n",
        "# Тест планировщика\n",
        "scheduler = TaskScheduler()\n",
        "tasks = [\n",
        "    Task(\"Email\", 2, 5),\n",
        "    Task(\"Bug Fix\", 5, 20),\n",
        "    Task(\"Meeting\", 3, 30),\n",
        "    Task(\"Code Review\", 4, 15),\n",
        "    Task(\"Documentation\", 1, 10)\n",
        "]\n",
        "\n",
        "for task in tasks:\n",
        "    scheduler.add_task(task)\n",
        "\n",
        "print(\"Выполнение задач по приоритету:\")\n",
        "while scheduler.has_tasks():\n",
        "    task = scheduler.get_next_task()\n",
        "    print(f\"Выполняется: {task}\")"
      ]
    },
    {
      "cell_type": "markdown",
      "id": "7ef03a6b",
      "metadata": {
        "id": "7ef03a6b"
      },
      "source": [
        "## Часть 4: Сравнение производительности"
      ]
    },
    {
      "cell_type": "code",
      "execution_count": null,
      "id": "ea2a6473",
      "metadata": {
        "id": "ea2a6473"
      },
      "outputs": [],
      "source": [
        "def benchmark_structures(n=10000):\n",
        "    \"\"\"Сравнить производительность различных структур для поиска максимума\"\"\"\n",
        "\n",
        "    # Генерация случайных данных\n",
        "    data = [random.randint(1, n*10) for _ in range(n)]\n",
        "\n",
        "    # 1. Обычный список (поиск максимума за O(n))\n",
        "    start = time.perf_counter()\n",
        "    for _ in range(100):\n",
        "        max(data)\n",
        "    list_time = time.perf_counter() - start\n",
        "\n",
        "    # 2. Отсортированный список (вставка O(n), максимум O(1))\n",
        "    sorted_list = []\n",
        "    start = time.perf_counter()\n",
        "    for val in data[:100]:  # Меньше операций из-за медленности\n",
        "        sorted_list.append(val)\n",
        "        sorted_list.sort()\n",
        "        max_val = sorted_list[-1]\n",
        "    sorted_time = time.perf_counter() - start\n",
        "\n",
        "    # 3. Heap (вставка O(log n), максимум O(log n))\n",
        "    heap = []\n",
        "    start = time.perf_counter()\n",
        "    for val in data[:1000]:  # Больше операций\n",
        "        heapq.heappush(heap, -val)  # Отрицательные для max-heap\n",
        "        max_val = -heap[0]\n",
        "    heap_time = time.perf_counter() - start\n",
        "\n",
        "    print(f\"Результаты для {n} элементов:\")\n",
        "    print(f\"Список (поиск max): {list_time:.4f}s\")\n",
        "    print(f\"Отсортированный список: {sorted_time:.4f}s (100 операций)\")\n",
        "    print(f\"Heap: {heap_time:.4f}s (1000 операций)\")\n",
        "\n",
        "benchmark_structures()"
      ]
    },
    {
      "cell_type": "code",
      "execution_count": null,
      "id": "99af73af",
      "metadata": {
        "id": "99af73af"
      },
      "outputs": [],
      "source": [
        "def visualize_heap(heap: List[int]):\n",
        "    dot = Digraph()\n",
        "    for i, val in enumerate(heap):\n",
        "        dot.node(str(i), str(val))\n",
        "        parent_idx = (i - 1) // 2\n",
        "        if i > 0:\n",
        "            dot.edge(str(parent_idx), str(i))\n",
        "    return dot\n",
        "\n",
        "# Пример визуализации\n",
        "heap = MaxHeap()\n",
        "for x in [90, 70, 80, 20, 60, 25, 50]:\n",
        "    heap.insert(x)\n",
        "print(\"Визуализация кучи:\")\n",
        "# visualize_heap(heap.heap)  # Раскомментируйте после реализации"
      ]
    },
    {
      "cell_type": "markdown",
      "id": "b9ca46fa",
      "metadata": {
        "id": "b9ca46fa"
      },
      "source": [
        "## Вопросы для отчёта\n",
        "\n",
        "### По видам деревьев:\n",
        "1. В чём основное различие между N-арным деревом и бинарным деревом?\n",
        "2. Почему BST обеспечивает поиск за O(log n) в среднем случае?\n",
        "3. Какие преимущества даёт Trie при работе со строками?\n",
        "4. Когда стоит использовать каждый тип дерева?\n",
        "\n",
        "### По двоичной куче:\n",
        "5. Какая временная сложность операций `insert` и `extract_max`? Обоснуйте.\n",
        "6. Почему алгоритм `heapify` работает за O(n), а не за O(n log n)?\n",
        "7. В чём отличие двоичной кучи от бинарного дерева поиска?\n",
        "\n",
        "### По применению куч:\n",
        "8. Почему для задачи \"K наибольших элементов\" используется min-heap размера K?\n",
        "9. Как две кучи помогают находить медиану за O(log n)?\n",
        "10. В чём преимущество использования кучи при слиянии K массивов?\n",
        "11. Приведите примеры реальных систем, где используются очереди с приоритетом.\n",
        "12. Сравните эффективность heapsort с быстрой сортировкой на случайных данных."
      ]
    },
    {
      "cell_type": "markdown",
      "id": "4de82aa9",
      "metadata": {
        "id": "4de82aa9"
      },
      "source": [
        "## Заключение\n",
        "\n",
        "В этой лабораторной работе вы изучили:\n",
        "- Различные типы древовидных структур данных\n",
        "- Реализацию и применение двоичной кучи\n",
        "- Практические алгоритмы, использующие кучи\n",
        "- Анализ производительности различных структур данных\n",
        "\n",
        "Эти знания помогут вам в решении широкого спектра алгоритмических задач и оптимизации производительности программ."
      ]
    }
  ],
  "metadata": {
    "language_info": {
      "name": "python"
    },
    "colab": {
      "provenance": []
    }
  },
  "nbformat": 4,
  "nbformat_minor": 5
}