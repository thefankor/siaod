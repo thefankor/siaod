{
 "cells": [
  {
   "cell_type": "markdown",
   "id": "db4b50f0",
   "metadata": {
    "id": "db4b50f0"
   },
   "source": [
    "# Лабораторная работа №5\n",
    "## Выполнил студент группы Возжин Сергей Дмитриевич БПИ2301"
   ]
  },
  {
   "cell_type": "markdown",
   "id": "annual-symbol",
   "metadata": {
    "id": "annual-symbol"
   },
   "source": [
    "### Оглавление\n",
    "1. [Задание 1](#Задание-№1)\n",
    "2. [Задание 2](#Задание-№2)\n",
    "4. [Вывод](#Вывод)"
   ]
  },
  {
   "cell_type": "markdown",
   "id": "independent-spirit",
   "metadata": {
    "id": "independent-spirit"
   },
   "source": [
    "> Дополнительные модули, использованные при выполнение лабораторной"
   ]
  },
  {
   "cell_type": "code",
   "execution_count": null,
   "id": "4839be2b",
   "metadata": {
    "id": "4839be2b"
   },
   "outputs": [],
   "source": [
    "# Необходим при замере скорости выполнения кода\n",
    "from datetime import datetime as t\n",
    "# Нужен для создания словаря в алг. Бойера-Мура\n",
    "from collections import defaultdict"
   ]
  },
  {
   "cell_type": "markdown",
   "id": "inclusive-motorcycle",
   "metadata": {
    "id": "inclusive-motorcycle"
   },
   "source": [
    "### Задание №1\n",
    "Реализовать методы поиска подстроки в строке. Добавить возможность ввода строки и подстроки с клавиатуры. Предусмотреть возможность существования пробела. Реализовать возможность выбора опции чувствительности или нечувствительности к регистру. Оценить время работы каждого алгоритма поиска и сравнить его со временем работы стандартной функции поиска, используемой в выбранном языке программирования."
   ]
  },
  {
   "cell_type": "markdown",
   "id": "interracial-communication",
   "metadata": {
    "id": "interracial-communication"
   },
   "source": [
    "#### Алгоритм Кнута-Морриса-Пратта"
   ]
  },
  {
   "cell_type": "code",
   "id": "presidential-level",
   "metadata": {
    "id": "presidential-level",
    "ExecuteTime": {
     "end_time": "2025-05-15T23:11:55.613524Z",
     "start_time": "2025-05-15T23:11:55.610090Z"
    }
   },
   "source": [
    "t = \"lala\"\n",
    "\n",
    "p = [0] * len(t)\n",
    "j = 0\n",
    "i = 1\n",
    "\n",
    "while i < len(t):\n",
    "     if t[i] == t[j]:\n",
    "         p[i] = j+1\n",
    "         i+=1\n",
    "         j+=1\n",
    "     else:\n",
    "         if j == 0:\n",
    "             p[i] = 0\n",
    "             i += 1\n",
    "         else:\n",
    "             j = p[j-1]\n",
    "\n",
    "print(p)\n",
    "\n",
    "a = \"lirili larilalalala\"\n",
    "m = len(t)\n",
    "n = len(a)\n",
    "\n",
    "while i < n:\n",
    "    if a[i] == t[j]:\n",
    "        i+=1\n",
    "        j+=1\n",
    "        if j == m:\n",
    "            print(\"Образ найден\")\n",
    "            break\n",
    "    else:\n",
    "        if j > i:\n",
    "            j = p[j-1]\n",
    "        else:\n",
    "            i+=1\n",
    "\n",
    "if i == n:\n",
    "    print(\"Образ не найден\")"
   ],
   "outputs": [
    {
     "name": "stdout",
     "output_type": "stream",
     "text": [
      "[0, 0, 1, 2]\n",
      "Образ найден\n"
     ]
    }
   ],
   "execution_count": 21
  },
  {
   "cell_type": "markdown",
   "id": "downtown-option",
   "metadata": {
    "id": "downtown-option"
   },
   "source": " #### Упрощенный алгоритм Бойера-Мура"
  },
  {
   "cell_type": "code",
   "id": "respective-reggae",
   "metadata": {
    "id": "respective-reggae",
    "ExecuteTime": {
     "end_time": "2025-05-15T23:15:41.970045Z",
     "start_time": "2025-05-15T23:15:41.965754Z"
    }
   },
   "source": [
    "t = \"лала\"\n",
    "S = set()\n",
    "M = len(t)\n",
    "d = {}\n",
    "\n",
    "for i in range(M - 2, -1, -1):\n",
    "    if t[i] not in S:\n",
    "        d[t[i]] = M - i - 1\n",
    "        S.add(t[i])\n",
    "\n",
    "if t[M - 1] not in S:\n",
    "    d[t[M - 1]] = M\n",
    "    S.add(t[M - 1])\n",
    "\n",
    "d[\"*\"] = M\n",
    "\n",
    "print(\"Таблица смещений:\", d)\n",
    "\n",
    "a = \"тралалеро тралала\"\n",
    "N = len(a)\n",
    "\n",
    "if N >= M:\n",
    "    i = M - 1\n",
    "    while i < N:\n",
    "        k = 0\n",
    "        for j in range(M - 1, -1, -1):\n",
    "            if a[i - k] != t[j]:\n",
    "                off = d.get(a[i], d[\"*\"])\n",
    "                i += off\n",
    "                break\n",
    "            k += 1\n",
    "\n",
    "        if k == M:\n",
    "            print(f\"Образ найден по индексу: {i - k + 1}\")\n",
    "            break\n",
    "    else:\n",
    "        print(\"Образ не найден\")\n",
    "else:\n",
    "    print(\"Образ не найден\")"
   ],
   "outputs": [
    {
     "name": "stdout",
     "output_type": "stream",
     "text": [
      "Таблица смещений: {'л': 1, 'а': 2, '*': 4}\n",
      "Образ найден по индексу: 13\n"
     ]
    }
   ],
   "execution_count": 29
  },
  {
   "cell_type": "markdown",
   "id": "hybrid-memorial",
   "metadata": {
    "id": "hybrid-memorial"
   },
   "source": [
    "### Задание №2\n",
    "Написать программу, определяющую, является ли данное\n",
    "расположение «решаемым», то есть можно ли из него за конечное число\n",
    "шагов перейти к правильному. Если это возможно, то необходимо найти хотя\n",
    "бы одно решение - последовательность движений, после которой числа будут\n",
    "расположены в правильном порядке.\n",
    "#### Входные данные: массив чисел, представляющий собой расстановку в\n",
    "Порядке «слева направо, сверху вниз». Число 0 обозначает пустое поле.\n",
    "Например, массив [1, 2, 3, 4, 5, 6, 7, 8, 9, 10, 11, 12, 13, 14, 15, 0] представляет\n",
    "собой «решенную» позицию элементов.\n",
    "#### Выходные данные: если решения нет, то функция должна вернуть\n",
    "Пустой массив []. Если решение есть, то необходимо представить решение —\n",
    "для каждого шага записывается номер передвигаемого на данном шаге\n",
    "элемента. "
   ]
  },
  {
   "cell_type": "code",
   "id": "eleven-generic",
   "metadata": {
    "id": "eleven-generic",
    "ExecuteTime": {
     "end_time": "2025-05-15T23:05:12.185335Z",
     "start_time": "2025-05-15T23:05:12.179806Z"
    }
   },
   "source": [
    "from collections import deque\n",
    "\n",
    "\n",
    "def is_solvable(puzzle, n):\n",
    "    inversions = 0\n",
    "    empty_row = 0\n",
    "\n",
    "    for i in range(n*n):\n",
    "        if puzzle[i] == 0:\n",
    "            empty_row = i // n\n",
    "            continue\n",
    "        for j in range(i+1, n*n):\n",
    "            if puzzle[j] != 0 and puzzle[i] > puzzle[j]:\n",
    "                inversions += 1\n",
    "\n",
    "    if n % 2 == 1:\n",
    "        return inversions % 2 == 0\n",
    "    else:\n",
    "        return (inversions + empty_row) % 2 == 1\n",
    "\n",
    "def generate_goal_state(n):\n",
    "    return list(range(1, n * n)) + [0]\n",
    "\n",
    "def get_neighbors(state, n):\n",
    "    neighbors = []\n",
    "    empty_index = state.index(0)\n",
    "    row, col = divmod(empty_index, n)\n",
    "\n",
    "    for dr, dc in [(-1,0),(1,0),(0,-1),(0,1)]:\n",
    "        new_row, new_col = row + dr, col + dc\n",
    "        if 0 <= new_row < n and 0 <= new_col < n:\n",
    "            new_index = new_row * n + new_col\n",
    "            new_state = state[:]\n",
    "            new_state[empty_index], new_state[new_index] = new_state[new_index], new_state[empty_index]\n",
    "            neighbors.append((new_state, new_state[empty_index]))\n",
    "\n",
    "    return neighbors\n",
    "\n",
    "def solve_puzzle(start_state, n):\n",
    "    if not is_solvable(start_state, n):\n",
    "        return []\n",
    "\n",
    "    goal_state = generate_goal_state(n)\n",
    "\n",
    "    if start_state == goal_state:\n",
    "        return []\n",
    "\n",
    "    queue = deque([(start_state, [])])\n",
    "    visited = set([tuple(start_state)])\n",
    "\n",
    "    while queue:\n",
    "        current_state, path = queue.popleft()\n",
    "\n",
    "        for neighbor, moved_tile in get_neighbors(current_state, n):\n",
    "            if tuple(neighbor) not in visited:\n",
    "                if neighbor == goal_state:\n",
    "                    return path + [moved_tile]\n",
    "\n",
    "                visited.add(tuple(neighbor))\n",
    "                queue.append((neighbor, path + [moved_tile]))\n",
    "\n",
    "    return []\n",
    "\n",
    "puzzle = [1, 2, 3, 4,\n",
    "          5, 6, 7, 8,\n",
    "          9, 14, 10, 12,\n",
    "          0, 13, 11, 15]\n",
    "\n",
    "solution = solve_puzzle(puzzle, 4)\n",
    "print(\"Решение найдено:\", solution)"
   ],
   "outputs": [
    {
     "name": "stdout",
     "output_type": "stream",
     "text": [
      "Решение найдено: [13, 14, 10, 11, 15]\n"
     ]
    }
   ],
   "execution_count": 13
  },
  {
   "cell_type": "markdown",
   "id": "arbitrary-amazon",
   "metadata": {
    "id": "arbitrary-amazon"
   },
   "source": [
    "### Вывод"
   ]
  },
  {
   "cell_type": "markdown",
   "id": "71bc58bf",
   "metadata": {
    "id": "71bc58bf"
   },
   "source": []
  }
 ],
 "metadata": {
  "kernelspec": {
   "display_name": "Python 3 (ipykernel)",
   "language": "python",
   "name": "python3"
  },
  "language_info": {
   "codemirror_mode": {
    "name": "ipython",
    "version": 3
   },
   "file_extension": ".py",
   "mimetype": "text/x-python",
   "name": "python",
   "nbconvert_exporter": "python",
   "pygments_lexer": "ipython3",
   "version": "3.10.2"
  },
  "colab": {
   "provenance": []
  }
 },
 "nbformat": 4,
 "nbformat_minor": 5
}
