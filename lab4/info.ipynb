{
 "cells": [
  {
   "cell_type": "markdown",
   "metadata": {
    "id": "0z3KlfKDn4_K"
   },
   "source": [
    "# Лабораторная работа 3. \n",
    "# Сетевые алгоритмы. Динамические алгоритмы поиска путей.\n"
   ]
  },
  {
   "cell_type": "markdown",
   "metadata": {
    "id": "96Gi_LEvmSVH"
   },
   "source": [
    "## Выполнил студент группы Возжин Сергей Дмитриевич БПИ2301\n",
    "***"
   ]
  },
  {
   "cell_type": "markdown",
   "metadata": {
    "id": "GjdIp8aToKIe"
   },
   "source": [
    "### Задание\n",
    "\n",
    "1.  Реализовать алгоритм поиска кратчайшего расстояния между двумя вершинами ориентированного взвешенного графа в соответствии с вариантом. \n",
    "\n",
    "2.  Предусмотреть задание графа в виде матрицы смежности/инцидентности, читаемой из файла, либо графически с помощью пользовательского интерфейса. \n",
    "\n",
    "3.  Разработать графический интерфейс пользователя с визуализацией графа и отображением кратчайшего расстояния между задаваемыми пользователем вершинами.\n",
    "\n",
    "4. По результатам работы проанализировать временную сложность работы заданного алгоритма в зависимости от числа узлов и ребер графа.\n",
    "Данные представить в виде таблицы.\n",
    "\n"
   ]
  },
  {
   "cell_type": "markdown",
   "metadata": {
    "id": "LhhUXrAmotIA"
   },
   "source": [
    " ### Алгоритмы:\n",
    "\n",
    "Алгоритм Флойда-Уоршелла| Алгоритм Дейкстры | Алгоритм Беллмана-Форда | Алгоритм Джонсона| Алгоритм Левита | Алгоритм Йена\n",
    "\n"
   ]
  },
  {
   "cell_type": "markdown",
   "metadata": {
    "id": "Wggfn8l7nG72"
   },
   "source": [
    "### Выполнение:"
   ]
  },
  {
   "cell_type": "code",
   "metadata": {
    "id": "681a95mZnOSa",
    "ExecuteTime": {
     "end_time": "2025-05-15T22:00:44.874032Z",
     "start_time": "2025-05-15T22:00:44.865893Z"
    }
   },
   "source": [
    "import math\n",
    "\n",
    "from load_incidence_matrix import load_incidence_matrix_from_file\n",
    "from load_matrix import load_graph_from_file\n",
    "\n",
    "def bellman_ford(graph, source):\n",
    "    n = len(graph)\n",
    "    distance = [math.inf] * n\n",
    "    distance[source] = 0\n",
    "\n",
    "    for _ in range(n - 1):\n",
    "        for u in range(n):\n",
    "            for v in range(n):\n",
    "                if graph[u][v] != math.inf:\n",
    "                    if distance[u] + graph[u][v] < distance[v]:\n",
    "                        distance[v] = distance[u] + graph[u][v]\n",
    "\n",
    "    for u in range(n):\n",
    "        for v in range(n):\n",
    "            if graph[u][v] != math.inf:\n",
    "                if distance[u] + graph[u][v] < distance[v]:\n",
    "                    raise ValueError(\"Граф содержит отрицательный цикл!\")\n",
    "\n",
    "    return distance\n",
    "\n",
    "\n",
    "def dijkstra_with_path(graph, start, end):\n",
    "    n = len(graph)\n",
    "    distances = [math.inf] * n\n",
    "    previous = [None] * n\n",
    "    visited = [False] * n\n",
    "    distances[start] = 0\n",
    "\n",
    "    for _ in range(n):\n",
    "        min_distance = math.inf\n",
    "        u = -1\n",
    "        for i in range(n):\n",
    "            if not visited[i] and distances[i] < min_distance:\n",
    "                min_distance = distances[i]\n",
    "                u = i\n",
    "        if u == -1:\n",
    "            break\n",
    "        visited[u] = True\n",
    "        for v in range(n):\n",
    "            if graph[u][v] != math.inf and not visited[v]:\n",
    "                new_distance = distances[u] + graph[u][v]\n",
    "                if new_distance < distances[v]:\n",
    "                    distances[v] = new_distance\n",
    "                    previous[v] = u\n",
    "\n",
    "    # Восстановление пути\n",
    "    path = []\n",
    "    if distances[end] != math.inf:\n",
    "        current = end\n",
    "        while current is not None:\n",
    "            path.insert(0, current)\n",
    "            current = previous[current]\n",
    "        return distances[end], path\n",
    "    else:\n",
    "        return None, []\n",
    "\n",
    "def johnson(graph, start, end):\n",
    "    n = len(graph)\n",
    "    new_graph = [row + [math.inf] for row in graph]\n",
    "    new_graph.append([0] * n + [0])\n",
    "    h = bellman_ford(new_graph, n)\n",
    "\n",
    "    reweighted_graph = [[math.inf] * n for _ in range(n)]\n",
    "    for u in range(n):\n",
    "        for v in range(n):\n",
    "            if graph[u][v] != math.inf:\n",
    "                reweighted_graph[u][v] = graph[u][v] + h[u] - h[v]\n",
    "\n",
    "    distance, path = dijkstra_with_path(reweighted_graph, start, end)\n",
    "    if distance is None:\n",
    "        return None, []\n",
    "    true_distance = distance + h[end] - h[start]\n",
    "    return true_distance, path\n"
   ],
   "outputs": [],
   "execution_count": 2
  },
  {
   "cell_type": "markdown",
   "metadata": {
    "id": "diOb-K7LnO5a"
   },
   "source": [
    "### Вывод"
   ]
  },
  {
   "metadata": {},
   "cell_type": "markdown",
   "source": [
    "\t1.\tБеллман-Форд: O(n * m)\n",
    "\t2.\tПеревзвешивание: O(m)\n",
    "\t3.\tОдин запуск Дейкстры: O(m log n)\n",
    "\n",
    "Суммарная сложность:\n",
    "\n",
    "O(n * m) + O(m) + O(m * log n) = O(n * m + m * log n)"
   ]
  },
  {
   "metadata": {},
   "cell_type": "markdown",
   "source": [
    "| Размер графа  | Параметры \\((n, m)\\) | Оценка сложности               | Примерное время работы |\n",
    "|---------------|-----------------------|--------------------------------|------------------------|\n",
    "| Малый граф    | \\(n = 10, m = 20\\)   | \\(O(n \\cdot m + m \\log n) = O(10 \\cdot 20 + 20 \\log 10)\\) ≈ \\(O(300)\\) операций | Миллисекунды           |\n",
    "| Средний граф  | \\(n = 1000, m = 5000\\) | \\(O(1000 \\cdot 5000 + 5000 \\log 1000)\\) ≈ \\(O(5.1 \\times 10^6)\\) операций | Секунды                |\n",
    "| Большой граф  | \\(n = 10^5, m = 10^6\\) | \\(O(10^5 \\cdot 10^6 + 10^6 \\log 10^5)\\) ≈ \\(O(1.1 \\times 10^9)\\) операций | Минуты                 |"
   ]
  }
 ],
 "metadata": {
  "colab": {
   "provenance": [
    {
     "file_id": "1PB29AfCQqtCPpQJrN1jpaKF1cw_5iEo0",
     "timestamp": 1679127006477
    }
   ]
  },
  "kernelspec": {
   "display_name": "Python 3 (ipykernel)",
   "language": "python",
   "name": "python3"
  },
  "language_info": {
   "codemirror_mode": {
    "name": "ipython",
    "version": 3
   },
   "file_extension": ".py",
   "mimetype": "text/x-python",
   "name": "python",
   "nbconvert_exporter": "python",
   "pygments_lexer": "ipython3",
   "version": "3.10.2"
  }
 },
 "nbformat": 4,
 "nbformat_minor": 0
}
