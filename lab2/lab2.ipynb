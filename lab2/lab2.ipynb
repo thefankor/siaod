{
 "cells": [
  {
   "cell_type": "markdown",
   "id": "fifteen-sailing",
   "metadata": {
    "id": "fifteen-sailing"
   },
   "source": [
    "# Лабораторная работа №2\n",
    "## Выполнил студент группы Возжин Сергей Дмитриевич БПИ2301"
   ]
  },
  {
   "cell_type": "markdown",
   "id": "arctic-stocks",
   "metadata": {
    "id": "arctic-stocks"
   },
   "source": [
    "Реализовать следующие структуры данных:\n",
    "  \n",
    "● <b> Стек (stack): </b>  \n",
    "Операции для стека:\n",
    "<i> инициализация, проверка на пустоту, добавление нового элемента в начало, извлечение элемента из начала;  </i>  \n",
    "  \n",
    "● <b> Дек (двусторонняя очередь, deque):  </b>  \n",
    "Операции для дека:\n",
    "<i> инициализация, проверка на пустоту, добавление нового элемента в начало, добавление нового элемента в конец, извлечение элемента из начала, извлечение элемента из конца. </i>  \n",
    "  \n",
    "<i> Разработать программу обработки данных, содержащихся в заранее подготовленном txt-файле, в соответствии с заданиями, применив указанную в задании структуру данных. Результат работы программы вывести на экран и сохранить в отдельном txt-файле. </i>"
   ]
  },
  {
   "cell_type": "code",
   "execution_count": 24,
   "id": "RlXqWNM29QHD",
   "metadata": {
    "id": "RlXqWNM29QHD"
   },
   "outputs": [],
   "source": [
    "class Stack:\n",
    "    def __init__(self, name=\"stack\"):\n",
    "        self.name = name\n",
    "        self.items = []\n",
    "\n",
    "    def is_empty(self):\n",
    "        return len(self.items) == 0\n",
    "\n",
    "    def push(self, item):\n",
    "        self.items.append(item)\n",
    "\n",
    "    def pop(self):\n",
    "        if not self.is_empty():\n",
    "            return self.items.pop()\n",
    "        raise IndexError(\"Pop from an empty stack\")\n",
    "\n",
    "    def peek(self):\n",
    "        if not self.is_empty():\n",
    "            return self.items[-1]\n",
    "        return None\n",
    "\n",
    "    def __repr__(self):\n",
    "        return f\"Stack {self.name} ({self.items})\""
   ]
  },
  {
   "cell_type": "code",
   "execution_count": 56,
   "id": "CvGczwRA9VEQ",
   "metadata": {
    "id": "CvGczwRA9VEQ"
   },
   "outputs": [],
   "source": [
    "class Deque:\n",
    "    def __init__(self):\n",
    "        self.items = []\n",
    "\n",
    "    def is_empty(self):\n",
    "        return len(self.items) == 0\n",
    "\n",
    "    def push(self, item):\n",
    "        self.items.append(item)\n",
    "\n",
    "    def pop(self):\n",
    "        if not self.is_empty():\n",
    "            return self.items.pop()\n",
    "        raise IndexError(\"Pop from an empty deque\")\n",
    "\n",
    "    def push_left(self, item):\n",
    "        self.items.insert(0, item)\n",
    "\n",
    "    def pop_left(self):\n",
    "        if not self.is_empty():\n",
    "            return self.items.pop(0)\n",
    "        raise IndexError(\"Pop from an empty deque\")\n",
    "\n",
    "    def peek(self):\n",
    "        if not self.is_empty():\n",
    "            return self.items[-1]\n",
    "        return None\n",
    "\n",
    "    def index(self, item):\n",
    "        if item in self.items:\n",
    "            return self.items.index(item)\n",
    "        return -1"
   ]
  },
  {
   "cell_type": "markdown",
   "id": "5d7edb08",
   "metadata": {
    "id": "5d7edb08",
    "scrolled": true
   },
   "source": [
    "### Задание №1\n",
    "Отсортировать строки файла, содержащие названия книг, в алфавитном порядке с использованием двух деков."
   ]
  },
  {
   "cell_type": "code",
   "execution_count": 10,
   "id": "17702ade",
   "metadata": {
    "colab": {
     "base_uri": "https://localhost:8080/"
    },
    "executionInfo": {
     "elapsed": 85,
     "status": "ok",
     "timestamp": 1741296619043,
     "user": {
      "displayName": "Сергей",
      "userId": "04598935918046659655"
     },
     "user_tz": -180
    },
    "id": "17702ade",
    "outputId": "e2bbafa1-eec5-4f77-f7eb-927cf04c5e25"
   },
   "outputs": [
    {
     "name": "stdout",
     "output_type": "stream",
     "text": [
      "['1984', \"Alice's Adventures in Wonderland\", 'All Quiet on the Western Front', 'An American Tragedy', 'And Then There Were None', 'Anna Karenina', 'Brave New World', 'Crime and Punishment', 'Doctor Zhivago', 'Eugene Onegin', 'Faust', 'Hard to Be a God', \"Harry Potter and the Philosopher's Stone\", 'Heart of a Dog', 'Hyperion', 'Ivanhoe', 'Les Misérables', 'Life of Pi', 'Lolita', 'Oblomov', 'One Hundred Years of Solitude', 'Perfume: The Story of a Murderer', 'Pride and Prejudice', 'Robinson Crusoe', 'The Brothers Karamazov', 'The Call of Cthulhu', \"The Captain's Daughter\", 'The Count of Monte Cristo', 'The Good Soldier Švejk', 'The Grapes of Wrath', 'The Green Mile', \"The Handmaid's Tale\", 'The Invisible Man', 'The Jungle Book', 'The Lady of the Camellias', 'The Little Prince', 'The Master and Margarita', 'The Mysterious Island', 'The Old Man and the Sea', 'The Picture of Dorian Gray', 'The Plague', 'The White Guard', 'Three Comrades', 'Three Men in a Boat', 'Ulysses', 'War and Peace']\n"
     ]
    }
   ],
   "source": [
    "def sort_books_with_deques(input_file, output_file):\n",
    "    with open(input_file, \"r\", encoding=\"utf-8\") as file:\n",
    "        books = file.readlines()\n",
    "    \n",
    "    books = [book.strip() for book in books]\n",
    "\n",
    "    unsorted_deque = Deque()\n",
    "    sorted_deque = Deque()\n",
    "\n",
    "    for book in books:\n",
    "        unsorted_deque.push(book)\n",
    "\n",
    "    while not unsorted_deque.is_empty():\n",
    "        current_book = unsorted_deque.pop_left()\n",
    "\n",
    "        count = 0\n",
    "        while not sorted_deque.is_empty() and sorted_deque.items[-1] > current_book:\n",
    "            unsorted_deque.push_left(sorted_deque.pop())\n",
    "            count += 1\n",
    "\n",
    "        sorted_deque.push(current_book)\n",
    "\n",
    "        for _ in range(count):\n",
    "            sorted_deque.push(unsorted_deque.pop_left())\n",
    "\n",
    "    print(sorted_deque.items)\n",
    "    with open(output_file, \"w\", encoding=\"utf-8\") as file:\n",
    "        for book in sorted_deque.items:\n",
    "            file.write(book + \"\\n\")\n",
    "\n",
    "    \n",
    "\n",
    "# Файлы\n",
    "input_file = \"files/1/books_list_en.txt\"\n",
    "output_file = \"files/1/sorted_books_list_en.txt\"\n",
    "\n",
    "# Запуск сортировки\n",
    "sort_books_with_deques(input_file, output_file)\n",
    "\n"
   ]
  },
  {
   "cell_type": "markdown",
   "id": "49fbd2a0",
   "metadata": {
    "id": "49fbd2a0"
   },
   "source": [
    "### Задание №2\n",
    "Дек содержит последовательность символов для шифровки сообщений. Дан текстовый файл, содержащий зашифрованное сообщение. Пользуясь деком, расшифровать текст.\n",
    "Известно, что при шифровке каждый символ сообщения заменялся следующим за ним в деке по часовой стрелке через один."
   ]
  },
  {
   "cell_type": "code",
   "execution_count": 76,
   "id": "81cab7a8",
   "metadata": {
    "id": "81cab7a8"
   },
   "outputs": [
    {
     "name": "stdout",
     "output_type": "stream",
     "text": [
      "hello world, its work\n"
     ]
    }
   ],
   "source": [
    "def decrypt_message(input_file, output_file, char_sequence):\n",
    "    char_deque = Deque()\n",
    "    for char in char_sequence:\n",
    "        char_deque.push(char)\n",
    "    \n",
    "    with open(input_file, \"r\", encoding=\"utf-8\") as file:\n",
    "        encrypted_text = file.read()\n",
    "    \n",
    "    decrypted_text = \"\"\n",
    "    for char in encrypted_text:\n",
    "\n",
    "        found = False\n",
    "        for _ in range(len(char_sequence)):\n",
    "            if char_deque.peek() == char:\n",
    "                char_deque.push_left(char_deque.pop())\n",
    "                char_deque.push_left(char_deque.pop())\n",
    "                decrypted_text += char_deque.items[-1]\n",
    "                found = True\n",
    "                break\n",
    "            char_deque.push(char_deque.pop_left())\n",
    "        if not found:\n",
    "            decrypted_text += char\n",
    "\n",
    "    print(decrypted_text)\n",
    "    \n",
    "\n",
    "    with open(output_file, \"w\", encoding=\"utf-8\") as file:\n",
    "        file.write(decrypted_text)\n",
    "\n",
    "\n",
    "\n",
    "input_file = \"files/2/encrypted_message.txt\"\n",
    "output_file = \"files/2/decrypted_message.txt\"\n",
    "\n",
    "char_sequence = \"ABCDEFGHIJKLMNOPQRSTUVWXYZabcdefghijklmnopqrstuvwxyz0123456789\"\n",
    "\n",
    "decrypt_message(input_file, output_file, char_sequence)\n"
   ]
  },
  {
   "cell_type": "markdown",
   "id": "c0894f47",
   "metadata": {
    "id": "c0894f47"
   },
   "source": [
    "### Задание №3\n",
    "Даны три стержня и n дисков различного размера. Диски можно надевать на стержни, образуя из них башни. Перенести n дисков со стержня А на стержень С, сохранив их первоначальный порядок. При переносе дисков необходимо соблюдать следующие правила:\n",
    "- на каждом шаге со стержня на стержень переносить только один диск;\n",
    "- диск нельзя помещать на диск меньшего размера;\n",
    "- для промежуточного хранения можно использовать стержень В.\n",
    "Реализовать алгоритм, используя три стека вместо стержней А, В, С. Информация о дисках хранится в исходном файле."
   ]
  },
  {
   "cell_type": "code",
   "execution_count": 32,
   "id": "9e91a9d4",
   "metadata": {
    "id": "9e91a9d4"
   },
   "outputs": [
    {
     "name": "stdout",
     "output_type": "stream",
     "text": [
      "Move disk 1 from Stack A ([4, 3, 2]) to Stack B ([1])\n",
      "Move disk 2 from Stack A ([4, 3]) to Stack C ([2])\n",
      "Move disk 1 from Stack B ([]) to Stack C ([2, 1])\n",
      "Move disk 3 from Stack A ([4]) to Stack B ([3])\n",
      "Move disk 1 from Stack C ([2]) to Stack A ([4, 1])\n",
      "Move disk 2 from Stack C ([]) to Stack B ([3, 2])\n",
      "Move disk 1 from Stack A ([4]) to Stack B ([3, 2, 1])\n",
      "Move disk 4 from Stack A ([]) to Stack C ([4])\n",
      "Move disk 1 from Stack B ([3, 2]) to Stack C ([4, 1])\n",
      "Move disk 2 from Stack B ([3]) to Stack A ([2])\n",
      "Move disk 1 from Stack C ([4]) to Stack A ([2, 1])\n",
      "Move disk 3 from Stack B ([]) to Stack C ([4, 3])\n",
      "Move disk 1 from Stack A ([2]) to Stack B ([1])\n",
      "Move disk 2 from Stack A ([]) to Stack C ([4, 3, 2])\n",
      "Move disk 1 from Stack B ([]) to Stack C ([4, 3, 2, 1])\n"
     ]
    }
   ],
   "source": [
    "def move_tower(n, a, b, c):\n",
    "    if n > 0:\n",
    "        # Перемещаем n-1 дисков с A на B с помощью C\n",
    "        move_tower(n-1, a, c, b)\n",
    "        \n",
    "        # Перемещаем оставшийся диск на c\n",
    "        disk = a.pop()\n",
    "        c.push(disk)\n",
    "        print(f\"Move disk {disk} from {a} to {c}\")\n",
    "        \n",
    "        # Перемещаем n-1 дисков с B на C с помощью A\n",
    "        move_tower(n-1, b, a, c)\n",
    "\n",
    "def read_disks_from_file(input_file):\n",
    "    with open(input_file, \"r\", encoding=\"utf-8\") as file:\n",
    "        disks = [int(line.strip()) for line in file.readlines()]\n",
    "    return disks\n",
    "\n",
    "def solve_hanoi(input_file, output_file):\n",
    "    disks = read_disks_from_file(input_file)\n",
    "    \n",
    "    a = Stack(\"A\")\n",
    "    b = Stack(\"B\")\n",
    "    c = Stack(\"C\")\n",
    "    \n",
    "    for disk in reversed(disks):\n",
    "        a.push(disk)\n",
    "    \n",
    "    # Перемещаем диски с source на target\n",
    "    move_tower(len(disks), a, b, c)\n",
    "    \n",
    "    with open(output_file, \"w\", encoding=\"utf-8\") as file:\n",
    "        while not c.is_empty():\n",
    "            file.write(str(c.pop()) + \"\\n\")\n",
    "\n",
    "input_file = \"files/3/hanoi_disks.txt\"\n",
    "output_file = \"files/3/hanoi_result.txt\"\n",
    "\n",
    "solve_hanoi(input_file, output_file)"
   ]
  },
  {
   "cell_type": "markdown",
   "id": "e5b0be17",
   "metadata": {
    "id": "e5b0be17"
   },
   "source": [
    "### Задание №4\n",
    "Дан текстовый файл с программой на алгоритмическом языке. За один просмотр файла проверить баланс круглых скобок в тексте, используя стек."
   ]
  },
  {
   "cell_type": "code",
   "execution_count": 36,
   "id": "5b1df60a",
   "metadata": {
    "id": "5b1df60a"
   },
   "outputs": [
    {
     "name": "stdout",
     "output_type": "stream",
     "text": [
      "Balanced\n"
     ]
    }
   ],
   "source": [
    "def check_bracket_balance(file_path):\n",
    "    stack = Stack(\"Brackets\")\n",
    "    with open(file_path, \"r\", encoding=\"utf-8\") as file:\n",
    "        for line in file:\n",
    "            for char in line:\n",
    "                if char == \"(\":\n",
    "                    stack.push(char)\n",
    "                elif char == \")\":\n",
    "                    if stack.is_empty():\n",
    "                        return False\n",
    "                    stack.pop()\n",
    "    return stack.is_empty()\n",
    "\n",
    "\n",
    "input_file = \"files/4/algorithm_code.txt\"\n",
    "\n",
    "is_balanced = check_bracket_balance(input_file)\n",
    "\n",
    "print(\"Balanced\" if is_balanced else \"Unbalanced\")"
   ]
  },
  {
   "cell_type": "markdown",
   "id": "c44cdd6b",
   "metadata": {
    "id": "c44cdd6b"
   },
   "source": [
    "### Задание №5\n",
    "Дан текстовый файл с программой на алгоритмическом языке. За один просмотр файла проверить баланс квадратных скобок в тексте, используя дек."
   ]
  },
  {
   "cell_type": "code",
   "execution_count": 39,
   "id": "36b8f400",
   "metadata": {
    "id": "36b8f400"
   },
   "outputs": [
    {
     "name": "stdout",
     "output_type": "stream",
     "text": [
      "Balanced\n"
     ]
    }
   ],
   "source": [
    "def check_square_bracket_balance(file_path):\n",
    "    deque = Deque()\n",
    "    with open(file_path, \"r\", encoding=\"utf-8\") as file:\n",
    "        for line in file:\n",
    "            for char in line:\n",
    "                if char == \"[\":\n",
    "                    deque.push(char)\n",
    "                elif char == \"]\":\n",
    "                    if deque.is_empty():\n",
    "                        return False\n",
    "                    deque.pop()\n",
    "    return deque.is_empty()\n",
    "\n",
    "input_file = \"files/5/algorithm_code5.txt\"\n",
    "\n",
    "is_balanced = check_square_bracket_balance(input_file)\n",
    "\n",
    "print(\"Balanced\" if is_balanced else \"Unbalanced\")"
   ]
  },
  {
   "cell_type": "markdown",
   "id": "59d13dc7",
   "metadata": {
    "id": "59d13dc7"
   },
   "source": [
    "### Задание №6\n",
    "Дан файл из символов. Используя стек, за один просмотр файла напечатать сначала все цифры, затем все буквы, и, наконец, все остальные символы, сохраняя исходный порядок в каждой группе символов."
   ]
  },
  {
   "cell_type": "code",
   "execution_count": 42,
   "id": "297e36c2",
   "metadata": {
    "id": "297e36c2"
   },
   "outputs": [
    {
     "name": "stdout",
     "output_type": "stream",
     "text": [
      "888876636EeeediuiYUEBYBYBVBEvveUYEvbIYBuyb&&&&#^"
     ]
    }
   ],
   "source": [
    "def categorize_and_print(file_path):\n",
    "    digits_stack = Stack(\"DigitsStack\")\n",
    "    letters_stack = Stack(\"LettersStack\")\n",
    "    others_stack = Stack(\"OthersStack\")\n",
    "    \n",
    "    with open(file_path, \"r\", encoding=\"utf-8\") as file:\n",
    "        for line in file:\n",
    "            for char in line:\n",
    "                if char.isdigit():\n",
    "                    digits_stack.push(char)\n",
    "                elif char.isalpha():\n",
    "                    letters_stack.push(char)\n",
    "                else:\n",
    "                    others_stack.push(char)\n",
    "    \n",
    "    while not digits_stack.is_empty():\n",
    "        print(digits_stack.pop(), end=\"\")\n",
    "    while not letters_stack.is_empty():\n",
    "        print(letters_stack.pop(), end=\"\")\n",
    "    while not others_stack.is_empty():\n",
    "        print(others_stack.pop(), end=\"\")\n",
    "\n",
    "input_file = \"files/6/characters.txt\"\n",
    "\n",
    "categorize_and_print(input_file)\n"
   ]
  },
  {
   "cell_type": "markdown",
   "id": "973f68bd",
   "metadata": {
    "id": "973f68bd"
   },
   "source": [
    "### Задание №7\n",
    "Дан файл из целых чисел. Используя дек, за один просмотр файла напечатать сначала все отрицательные числа, затем все положительные числа, сохраняя исходный порядок в каждой группе."
   ]
  },
  {
   "cell_type": "code",
   "execution_count": 60,
   "id": "c56fad66",
   "metadata": {
    "id": "c56fad66"
   },
   "outputs": [
    {
     "name": "stdout",
     "output_type": "stream",
     "text": [
      "-4\n",
      "-6\n",
      "-9\n",
      "4\n",
      "6\n",
      "2\n",
      "6\n",
      "6\n",
      "1\n"
     ]
    }
   ],
   "source": [
    "def integers(file_path):\n",
    "    ints = Deque()\n",
    "    \n",
    "    with open(file_path, \"r\", encoding=\"utf-8\") as file:\n",
    "        for line in file:\n",
    "            if line.startswith(\"-\"):\n",
    "                ints.push_left(line.strip())\n",
    "            else:\n",
    "                ints.push(line.strip())\n",
    "        while not ints.is_empty() and not (ints.peek().startswith(\"-\")):\n",
    "            ints.push_left(ints.pop())\n",
    "        while not ints.is_empty() and ints.peek().startswith(\"-\"):\n",
    "            print(ints.pop())\n",
    "        while not ints.is_empty():\n",
    "            print(ints.pop_left())\n",
    "\n",
    "input_file = \"files/7/numbers.txt\"\n",
    "\n",
    "integers(input_file)"
   ]
  },
  {
   "cell_type": "markdown",
   "id": "b9228191",
   "metadata": {
    "id": "b9228191"
   },
   "source": [
    "### Задание №8\n",
    "Дан текстовый файл. Используя стек, сформировать новый текстовый файл, содержащий строки исходного файла, записанные в обратном порядке: первая строка становится последней, вторая – предпоследней и т.д."
   ]
  },
  {
   "cell_type": "code",
   "execution_count": 62,
   "id": "981fbdfe",
   "metadata": {
    "id": "981fbdfe"
   },
   "outputs": [],
   "source": [
    "def reverse_file_lines(input_file, output_file):\n",
    "    stack = Stack(\"LinesStack\")\n",
    "    \n",
    "    with open(input_file, \"r\", encoding=\"utf-8\") as file:\n",
    "        for line in file:\n",
    "            stack.push(line.strip())\n",
    "    \n",
    "    with open(output_file, \"w\", encoding=\"utf-8\") as file:\n",
    "        while not stack.is_empty():\n",
    "            file.write(stack.pop() + \"\\n\")\n",
    "\n",
    "input_file = \"files/8/input_text.txt\"\n",
    "output_file = \"files/8/reversed_text.txt\"\n",
    "\n",
    "reverse_file_lines(input_file, output_file)"
   ]
  },
  {
   "cell_type": "markdown",
   "id": "rental-jerusalem",
   "metadata": {
    "id": "rental-jerusalem"
   },
   "source": [
    "### Вывод\n"
   ]
  },
  {
   "cell_type": "markdown",
   "id": "0c2b8899",
   "metadata": {
    "id": "0c2b8899"
   },
   "source": [
    "В ходе выполнения лабораторной работы были реализованы и применены стек и дек для решения различных алгоритмических задач, включая обработку текстов, чисел и шифрования."
   ]
  },
  {
   "cell_type": "code",
   "execution_count": null,
   "id": "17f52b54-42cf-4329-9720-51451abc3866",
   "metadata": {},
   "outputs": [],
   "source": []
  }
 ],
 "metadata": {
  "colab": {
   "provenance": [
    {
     "file_id": "1SJnopeql2j1MhzcaJ8o68KaPzPnynIeK",
     "timestamp": 1676536264821
    }
   ]
  },
  "kernelspec": {
   "display_name": "Python 3 (ipykernel)",
   "language": "python",
   "name": "python3"
  },
  "language_info": {
   "codemirror_mode": {
    "name": "ipython",
    "version": 3
   },
   "file_extension": ".py",
   "mimetype": "text/x-python",
   "name": "python",
   "nbconvert_exporter": "python",
   "pygments_lexer": "ipython3",
   "version": "3.11.5"
  }
 },
 "nbformat": 4,
 "nbformat_minor": 5
}
