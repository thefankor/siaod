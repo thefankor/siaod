{
 "cells": [
  {
   "cell_type": "markdown",
   "id": "97cc36c8",
   "metadata": {
    "id": "97cc36c8"
   },
   "source": [
    "# Лабораторная работа: Деревья и двоичная куча\n",
    "\n",
    "В этой расширенной лабораторной работе вы изучите различные виды деревьев, реализуете двоичную **max-кучу** и решите практические задачи с её использованием."
   ]
  },
  {
   "cell_type": "markdown",
   "id": "80dc5bba",
   "metadata": {
    "id": "80dc5bba"
   },
   "source": [
    "## Цели\n",
    "- Изучить различные виды древовидных структур данных\n",
    "- Реализовать N-арные деревья, BST и Trie\n",
    "- Освоить двоичную кучу и её основные операции\n",
    "- Применить кучи для решения практических алгоритмических задач\n",
    "- Сравнить производительность различных структур данных"
   ]
  },
  {
   "cell_type": "code",
   "id": "93e1eab2",
   "metadata": {
    "id": "93e1eab2",
    "ExecuteTime": {
     "end_time": "2025-10-16T18:33:33.116953Z",
     "start_time": "2025-10-16T18:33:30.569235Z"
    }
   },
   "source": [
    "import random\n",
    "import time\n",
    "import heapq\n",
    "from typing import List, Optional\n",
    "\n",
    "# Для визуализации\n",
    "try:\n",
    "    from graphviz import Digraph\n",
    "except ImportError:\n",
    "    !pip install graphviz --quiet\n",
    "    from graphviz import Digraph"
   ],
   "outputs": [
    {
     "name": "stdout",
     "output_type": "stream",
     "text": [
      "\r\n",
      "\u001B[1m[\u001B[0m\u001B[34;49mnotice\u001B[0m\u001B[1;39;49m]\u001B[0m\u001B[39;49m A new release of pip is available: \u001B[0m\u001B[31;49m25.0.1\u001B[0m\u001B[39;49m -> \u001B[0m\u001B[32;49m25.2\u001B[0m\r\n",
      "\u001B[1m[\u001B[0m\u001B[34;49mnotice\u001B[0m\u001B[1;39;49m]\u001B[0m\u001B[39;49m To update, run: \u001B[0m\u001B[32;49mpip install --upgrade pip\u001B[0m\r\n"
     ]
    }
   ],
   "execution_count": 1
  },
  {
   "cell_type": "markdown",
   "id": "67800910",
   "metadata": {
    "id": "67800910"
   },
   "source": [
    "## Часть 1: Виды деревьев\n",
    "\n",
    "Изучим различные виды древовидных структур данных и их применения."
   ]
  },
  {
   "cell_type": "markdown",
   "id": "6e0eed58",
   "metadata": {
    "id": "6e0eed58"
   },
   "source": [
    "### Задание 1.1: N-арное дерево\n",
    "Реализуйте N-арное дерево, где каждый узел может иметь произвольное количество потомков."
   ]
  },
  {
   "cell_type": "code",
   "id": "35937624",
   "metadata": {
    "id": "35937624",
    "ExecuteTime": {
     "end_time": "2025-10-16T18:39:42.803275Z",
     "start_time": "2025-10-16T18:39:42.798905Z"
    }
   },
   "source": [
    "class NaryNode:\n",
    "    def __init__(self, value):\n",
    "        self.value = value\n",
    "        self.children = []\n",
    "\n",
    "    def add_child(self, child):\n",
    "        \"\"\"Добавить потомка\"\"\"\n",
    "        self.children.append(child)\n",
    "\n",
    "    def find_child(self, value):\n",
    "        \"\"\"Найти потомка по значению\"\"\"\n",
    "        if self.value == value:\n",
    "            return self\n",
    "        for child in self.children:\n",
    "            found = child.find_child(value)\n",
    "            if found:\n",
    "                return found\n",
    "        return None\n",
    "\n",
    "    def print_tree(self, level=0):\n",
    "        \"\"\"Печать дерева с отступами\"\"\"\n",
    "        print(\"  \" * level + str(self.value))\n",
    "        for child in self.children:\n",
    "            child.print_tree(level + 1)\n",
    "\n",
    "# Тест N-арного дерева\n",
    "root = NaryNode('A')\n",
    "root.add_child(NaryNode('B'))\n",
    "root.add_child(NaryNode('C'))\n",
    "root.add_child(NaryNode('D'))\n",
    "root.children[0].add_child(NaryNode('E'))\n",
    "root.children[0].add_child(NaryNode('F'))\n",
    "\n",
    "print(\"N-арное дерево:\")\n",
    "root.print_tree()"
   ],
   "outputs": [
    {
     "name": "stdout",
     "output_type": "stream",
     "text": [
      "N-арное дерево:\n",
      "A\n",
      "  B\n",
      "    E\n",
      "    F\n",
      "  C\n",
      "  D\n"
     ]
    }
   ],
   "execution_count": 3
  },
  {
   "cell_type": "markdown",
   "id": "9a54804a",
   "metadata": {
    "id": "9a54804a"
   },
   "source": [
    "### Задание 1.2: Префиксное дерево (Trie)\n",
    "Реализуйте Trie для эффективного поиска строк."
   ]
  },
  {
   "cell_type": "code",
   "id": "25f1f48b",
   "metadata": {
    "id": "25f1f48b",
    "ExecuteTime": {
     "end_time": "2025-10-16T18:50:01.489204Z",
     "start_time": "2025-10-16T18:50:01.484037Z"
    }
   },
   "source": [
    "class TrieNode:\n",
    "    def __init__(self):\n",
    "        self.children = {}\n",
    "        self.is_end_of_word = False\n",
    "\n",
    "class Trie:\n",
    "    def __init__(self):\n",
    "        self.root = TrieNode()\n",
    "\n",
    "    def insert(self, word):\n",
    "        \"\"\"Вставить слово в Trie\"\"\"\n",
    "        node = self.root\n",
    "        for char in word:\n",
    "            if char not in node.children:\n",
    "                node.children[char] = TrieNode()\n",
    "            node = node.children[char]\n",
    "        node.is_end_of_word = True\n",
    "\n",
    "    def search(self, word):\n",
    "        \"\"\"Найти слово в Trie\"\"\"\n",
    "        node = self.root\n",
    "        for char in word:\n",
    "            if char not in node.children:\n",
    "                return False\n",
    "            node = node.children[char]\n",
    "        return node.is_end_of_word\n",
    "\n",
    "    def starts_with(self, prefix):\n",
    "        \"\"\"Проверить, есть ли слова с данным префиксом\"\"\"\n",
    "        node = self.root\n",
    "        for char in prefix:\n",
    "            if char not in node.children:\n",
    "                return False\n",
    "            node = node.children[char]\n",
    "        return True\n",
    "\n",
    "# Тест Trie\n",
    "trie = Trie()\n",
    "words = [\"hello\", \"world\", \"word\", \"hi\", \"hey\"]\n",
    "for word in words:\n",
    "    trie.insert(word)\n",
    "\n",
    "print(\"Поиск 'hello':\", trie.search(\"hello\"))\n",
    "print(\"Поиск 'hel':\", trie.search(\"hel\"))\n",
    "print(\"Префикс 'he':\", trie.starts_with(\"he\"))\n",
    "print(\"Префикс 'wor':\", trie.starts_with(\"wor\"))"
   ],
   "outputs": [
    {
     "name": "stdout",
     "output_type": "stream",
     "text": [
      "Поиск 'hello': True\n",
      "Поиск 'hel': False\n",
      "Префикс 'he': True\n",
      "Префикс 'wor': True\n"
     ]
    }
   ],
   "execution_count": 4
  },
  {
   "cell_type": "markdown",
   "id": "e20c0ee9",
   "metadata": {
    "id": "e20c0ee9"
   },
   "source": [
    "## Часть 2: Двоичная куча\n",
    "\n",
    "### Теория\n",
    "Двоичная куча — это почти полное бинарное дерево, удовлетворяющее свойству кучи: ключ каждого узла \\(\\ge\\) ключей потомков (для max-кучи). Основные операции выполняются за \\(O(\\log n)\\) благодаря ограниченной высоте дерева."
   ]
  },
  {
   "cell_type": "code",
   "id": "08dff59f",
   "metadata": {
    "id": "08dff59f",
    "ExecuteTime": {
     "end_time": "2025-10-16T19:14:11.503938Z",
     "start_time": "2025-10-16T19:14:11.499749Z"
    }
   },
   "source": [
    "class MaxHeap:\n",
    "    def __init__(self):\n",
    "        self.heap: List[int] = []\n",
    "\n",
    "    def _sift_up(self, idx: int) -> None:\n",
    "        \"\"\"Просеивание вверх\"\"\"\n",
    "        parent = (idx - 1) // 2\n",
    "        if idx > 0 and self.heap[idx] > self.heap[parent]:\n",
    "            self.heap[idx], self.heap[parent] = self.heap[parent], self.heap[idx]\n",
    "            self._sift_up(parent)\n",
    "\n",
    "    def _sift_down(self, idx: int) -> None:\n",
    "        \"\"\"Просеивание вниз\"\"\"\n",
    "        left = 2 * idx + 1\n",
    "        right = 2 * idx + 2\n",
    "        largest = idx\n",
    "\n",
    "        if left < len(self.heap) and self.heap[left] > self.heap[largest]:\n",
    "            largest = left\n",
    "        if right < len(self.heap) and self.heap[right] > self.heap[largest]:\n",
    "            largest = right\n",
    "\n",
    "        if largest != idx:\n",
    "            self.heap[idx], self.heap[largest] = self.heap[largest], self.heap[idx]\n",
    "            self._sift_down(largest)\n",
    "\n",
    "    def insert(self, value: int) -> None:\n",
    "        \"\"\"Добавить элемент в кучу\"\"\"\n",
    "        self.heap.append(value)\n",
    "        self._sift_up(len(self.heap) - 1)\n",
    "\n",
    "    def extract_max(self):\n",
    "        \"\"\"Извлечь максимальный элемент из кучи\"\"\"\n",
    "        if not self.heap:\n",
    "            return None\n",
    "\n",
    "        max_value = self.heap[0]\n",
    "\n",
    "        last_val = self.heap.pop()\n",
    "        if self.heap:\n",
    "            self.heap[0] = last_val\n",
    "            self._sift_down(0)\n",
    "\n",
    "        return max_value\n",
    "\n",
    "    def heapify(self, arr: List[int]):\n",
    "        \"\"\"Построить кучу из массива за O(n)\"\"\"\n",
    "        self.heap = arr[:]\n",
    "\n",
    "        start = (len(self.heap) - 2) // 2\n",
    "\n",
    "        for i in range(start, -1, -1):\n",
    "            self._sift_down(i)\n",
    "\n",
    "    def __len__(self):\n",
    "        return len(self.heap)\n",
    "\n",
    "    def __repr__(self):\n",
    "        return str(self.heap)"
   ],
   "outputs": [],
   "execution_count": 9
  },
  {
   "cell_type": "code",
   "id": "e56dcfc1",
   "metadata": {
    "id": "e56dcfc1",
    "ExecuteTime": {
     "end_time": "2025-10-16T19:14:13.503796Z",
     "start_time": "2025-10-16T19:14:13.501099Z"
    }
   },
   "source": [
    "# Тесты базовой кучи\n",
    "heap = MaxHeap()\n",
    "for x in [50, 20, 70, 80, 60, 25, 90]:\n",
    "    heap.insert(x)\n",
    "print('Куча:', heap)\n",
    "print('Максимум:', heap.extract_max())\n",
    "print('После извлечения:', heap)"
   ],
   "outputs": [
    {
     "name": "stdout",
     "output_type": "stream",
     "text": [
      "Куча: [90, 70, 80, 20, 60, 25, 50]\n",
      "Максимум: 90\n",
      "После извлечения: [80, 70, 50, 20, 60, 25]\n"
     ]
    }
   ],
   "execution_count": 10
  },
  {
   "cell_type": "code",
   "id": "68a9910c",
   "metadata": {
    "id": "68a9910c",
    "ExecuteTime": {
     "end_time": "2025-10-16T20:44:07.340732Z",
     "start_time": "2025-10-16T20:44:07.334869Z"
    }
   },
   "source": [
    "def heapsort(arr: List[int]) -> List[int]:\n",
    "    \"\"\"Сортировка кучей (max-heap). Верните новый отсортированный список. O(n log n).\"\"\"\n",
    "    heap = MaxHeap()\n",
    "    heap.heapify(arr)  # O(n)\n",
    "\n",
    "    sorted_arr = []\n",
    "    while len(heap) > 0:\n",
    "        max_val = heap.extract_max()  # O(log n)\n",
    "        sorted_arr.append(max_val)\n",
    "\n",
    "    sorted_arr.reverse()\n",
    "\n",
    "    return sorted_arr\n",
    "\n",
    "\n",
    "# Проверьте на случайном массиве\n",
    "arr = random.sample(range(1000), 20)\n",
    "print('Исходный:', arr)\n",
    "print('Отсортированный:', heapsort(arr))"
   ],
   "outputs": [
    {
     "name": "stdout",
     "output_type": "stream",
     "text": [
      "Исходный: [588, 727, 265, 805, 683, 253, 100, 424, 402, 766, 176, 997, 511, 751, 786, 650, 988, 547, 733, 7]\n",
      "Отсортированный: [7, 100, 176, 253, 265, 402, 424, 511, 547, 588, 650, 683, 727, 733, 751, 766, 786, 805, 988, 997]\n"
     ]
    }
   ],
   "execution_count": 24
  },
  {
   "cell_type": "markdown",
   "id": "b6b38d34",
   "metadata": {
    "id": "b6b38d34"
   },
   "source": [
    "## Часть 3: Практические задачи с использованием кучи\n",
    "\n",
    "Теперь применим кучу для решения реальных алгоритмических задач."
   ]
  },
  {
   "cell_type": "markdown",
   "id": "5834756e",
   "metadata": {
    "id": "5834756e"
   },
   "source": [
    "### Задание 3.1: K наибольших элементов\n",
    "Найдите K наибольших элементов в массиве за O(n log k)."
   ]
  },
  {
   "cell_type": "code",
   "id": "473a8d81",
   "metadata": {
    "id": "473a8d81",
    "ExecuteTime": {
     "end_time": "2025-10-16T19:38:37.090157Z",
     "start_time": "2025-10-16T19:38:37.085529Z"
    }
   },
   "source": [
    "import heapq\n",
    "def find_k_largest_heap(arr, k):\n",
    "    \"\"\"Найти k наибольших элементов используя min-heap размера k\"\"\"\n",
    "    if k <= 0:\n",
    "        return []\n",
    "\n",
    "    min_heap = []\n",
    "\n",
    "    for num in arr:\n",
    "        if len(min_heap) < k:\n",
    "            heapq.heappush(min_heap, num)\n",
    "        else:\n",
    "            if num > min_heap[0]:\n",
    "                heapq.heapreplace(min_heap, num)\n",
    "\n",
    "    return sorted(min_heap, reverse=True)\n",
    "\n",
    "\n",
    "def find_k_largest_manual(arr, k):\n",
    "    \"\"\"Найти k наибольших элементов используя MaxHeap\"\"\"\n",
    "    if k <= 0:\n",
    "        return []\n",
    "\n",
    "    heap = MaxHeap()\n",
    "    heap.heapify(arr)\n",
    "\n",
    "    result = []\n",
    "    for _ in range(min(k, len(arr))):\n",
    "        result.append(heap.extract_max())\n",
    "\n",
    "    return result\n",
    "\n",
    "# Тест\n",
    "test_array = [3, 7, 1, 9, 4, 6, 8, 2, 5]\n",
    "k = 3\n",
    "\n",
    "print(\"Исходный массив:\", test_array)\n",
    "print(\"3 наибольших (heapq):\", find_k_largest_heap(test_array, k))\n",
    "print(\"3 наибольших (MaxHeap):\", find_k_largest_manual(test_array, k))"
   ],
   "outputs": [
    {
     "name": "stdout",
     "output_type": "stream",
     "text": [
      "Исходный массив: [3, 7, 1, 9, 4, 6, 8, 2, 5]\n",
      "3 наибольших (heapq): [9, 8, 7]\n",
      "3 наибольших (MaxHeap): [9, 8, 7]\n"
     ]
    }
   ],
   "execution_count": 12
  },
  {
   "cell_type": "markdown",
   "id": "55f96fd8",
   "metadata": {
    "id": "55f96fd8"
   },
   "source": [
    "### Задание 3.2: Медиана в потоке данных\n",
    "Реализуйте структуру данных для нахождения медианы в потоке чисел."
   ]
  },
  {
   "cell_type": "code",
   "id": "d58dfdcd",
   "metadata": {
    "id": "d58dfdcd",
    "ExecuteTime": {
     "end_time": "2025-10-16T19:46:17.578184Z",
     "start_time": "2025-10-16T19:46:17.573492Z"
    }
   },
   "source": [
    "class MedianFinder:\n",
    "    \"\"\"Найти медиану в потоке данных используя две кучи\"\"\"\n",
    "    def __init__(self):\n",
    "        # max_heap хранит МЕНЬШУЮ половину чисел (как отрицательные для имитации max-heap)\n",
    "        # min_heap хранит БОЛЬШУЮ половину чисел (обычная min-heap)\n",
    "        self.max_heap = []  # Левая половина\n",
    "        self.min_heap = []  # правая половина\n",
    "\n",
    "    def add_number(self, num):\n",
    "        \"\"\"Добавить число в поток O(log n)\"\"\"\n",
    "        heapq.heappush(self.max_heap, -num)\n",
    "\n",
    "        # каждый элемент из левой половины <= каждого из правой\n",
    "        if self.max_heap and self.min_heap and (-self.max_heap[0] > self.min_heap[0]):\n",
    "            val = -heapq.heappop(self.max_heap)\n",
    "            heapq.heappush(self.min_heap, val)\n",
    "\n",
    "        if len(self.max_heap) > len(self.min_heap) + 1:\n",
    "            heapq.heappush(self.min_heap, -heapq.heappop(self.max_heap))\n",
    "        elif len(self.min_heap) > len(self.max_heap):\n",
    "            heapq.heappush(self.max_heap, -heapq.heappop(self.min_heap))\n",
    "\n",
    "    def find_median(self):\n",
    "        \"\"\"Найти медиану текущего потока\"\"\"\n",
    "        # Если нечётное количество\n",
    "        if len(self.max_heap) > len(self.min_heap):\n",
    "            return float(-self.max_heap[0])\n",
    "        # Если чётное — среднее двух вершин\n",
    "        return (-self.max_heap[0] + self.min_heap[0]) / 2.0\n",
    "\n",
    "\n",
    "# Тест MedianFinder\n",
    "mf = MedianFinder()\n",
    "numbers = [1, 5, 2, 6, 3, 4]\n",
    "for num in numbers:\n",
    "    mf.add_number(num)\n",
    "    print(f\"Добавлено {num}, медиана: {mf.find_median()}\")"
   ],
   "outputs": [
    {
     "name": "stdout",
     "output_type": "stream",
     "text": [
      "Добавлено 1, медиана: 1.0\n",
      "Добавлено 5, медиана: 3.0\n",
      "Добавлено 2, медиана: 2.0\n",
      "Добавлено 6, медиана: 3.5\n",
      "Добавлено 3, медиана: 3.0\n",
      "Добавлено 4, медиана: 3.5\n"
     ]
    }
   ],
   "execution_count": 13
  },
  {
   "cell_type": "markdown",
   "id": "97b259f4",
   "metadata": {
    "id": "97b259f4"
   },
   "source": [
    "### Задание 3.3: Слияние K отсортированных массивов\n",
    "Объедините K отсортированных массивов в один отсортированный массив."
   ]
  },
  {
   "cell_type": "code",
   "id": "bfdec26f",
   "metadata": {
    "id": "bfdec26f",
    "ExecuteTime": {
     "end_time": "2025-10-16T19:52:48.645945Z",
     "start_time": "2025-10-16T19:52:48.642645Z"
    }
   },
   "source": [
    "\n",
    "\n",
    "def merge_k_sorted_arrays(arrays):\n",
    "    \"\"\"Слить K отсортированных массивов используя min-heap.\"\"\"\n",
    "    heap = []\n",
    "    result = []\n",
    "\n",
    "    for ai, arr in enumerate(arrays):\n",
    "        if arr:\n",
    "            heapq.heappush(heap, (arr[0], ai, 0))  # (значение, индекс массива, индекс элемента)\n",
    "\n",
    "    while heap:\n",
    "        val, ai, ei = heapq.heappop(heap) # минимальный элемент из кучи\n",
    "        result.append(val)\n",
    "        nxt = ei + 1\n",
    "        if nxt < len(arrays[ai]):\n",
    "            heapq.heappush(heap, (arrays[ai][nxt], ai, nxt))\n",
    "\n",
    "    return result\n",
    "\n",
    "\n",
    "arrays = [\n",
    "    [1, 4, 7],\n",
    "    [2, 5, 8],\n",
    "    [3, 6, 9]\n",
    "]\n",
    "\n",
    "result = merge_k_sorted_arrays(arrays)\n",
    "print(\"Исходные массивы:\", arrays)\n",
    "print(\"Объединенный массив:\", result)"
   ],
   "outputs": [
    {
     "name": "stdout",
     "output_type": "stream",
     "text": [
      "Исходные массивы: [[1, 4, 7], [2, 5, 8], [3, 6, 9]]\n",
      "Объединенный массив: [1, 2, 3, 4, 5, 6, 7, 8, 9]\n"
     ]
    }
   ],
   "execution_count": 14
  },
  {
   "cell_type": "markdown",
   "id": "a3c74c20",
   "metadata": {
    "id": "a3c74c20"
   },
   "source": [
    "### Задание 3.4: Планировщик задач с приоритетами\n",
    "Реализуйте планировщик задач, где каждая задача имеет приоритет."
   ]
  },
  {
   "cell_type": "code",
   "id": "d9c55aeb",
   "metadata": {
    "id": "d9c55aeb",
    "ExecuteTime": {
     "end_time": "2025-10-16T19:56:25.293073Z",
     "start_time": "2025-10-16T19:56:25.289254Z"
    }
   },
   "source": [
    "class Task:\n",
    "    def __init__(self, name, priority, duration):\n",
    "        self.name = name\n",
    "        self.priority = priority  # Чем больше число, тем выше приоритет\n",
    "        self.duration = duration\n",
    "\n",
    "    def __lt__(self, other):\n",
    "        # Для правильной работы с heapq\n",
    "        return self.priority > other.priority  # Инвертируем для max-heap поведения\n",
    "\n",
    "    def __repr__(self):\n",
    "        return f\"Task({self.name}, p={self.priority}, d={self.duration})\"\n",
    "\n",
    "class TaskScheduler:\n",
    "    def __init__(self):\n",
    "        self.heap = []\n",
    "\n",
    "    def add_task(self, task):\n",
    "        \"\"\"Добавить задачу в планировщик\"\"\"\n",
    "        heapq.heappush(self.heap, task)\n",
    "\n",
    "    def get_next_task(self):\n",
    "        \"\"\"Получить задачу с наивысшим приоритетом\"\"\"\n",
    "        if self.heap:\n",
    "            return heapq.heappop(self.heap)\n",
    "        return None\n",
    "\n",
    "    def has_tasks(self):\n",
    "        \"\"\"Проверить наличие задач\"\"\"\n",
    "        return len(self.heap) > 0\n",
    "\n",
    "# Тест планировщика\n",
    "scheduler = TaskScheduler()\n",
    "tasks = [\n",
    "    Task(\"Email\", 2, 5),\n",
    "    Task(\"Bug Fix\", 5, 20),\n",
    "    Task(\"Meeting\", 3, 30),\n",
    "    Task(\"Code Review\", 4, 15),\n",
    "    Task(\"Documentation\", 1, 10)\n",
    "]\n",
    "\n",
    "for task in tasks:\n",
    "    scheduler.add_task(task)\n",
    "\n",
    "print(\"Выполнение задач по приоритету:\")\n",
    "while scheduler.has_tasks():\n",
    "    task = scheduler.get_next_task()\n",
    "    print(f\"Выполняется: {task}\")"
   ],
   "outputs": [
    {
     "name": "stdout",
     "output_type": "stream",
     "text": [
      "Выполнение задач по приоритету:\n",
      "Выполняется: Task(Bug Fix, p=5, d=20)\n",
      "Выполняется: Task(Code Review, p=4, d=15)\n",
      "Выполняется: Task(Meeting, p=3, d=30)\n",
      "Выполняется: Task(Email, p=2, d=5)\n",
      "Выполняется: Task(Documentation, p=1, d=10)\n"
     ]
    }
   ],
   "execution_count": 15
  },
  {
   "cell_type": "markdown",
   "id": "7ef03a6b",
   "metadata": {
    "id": "7ef03a6b"
   },
   "source": [
    "## Часть 4: Сравнение производительности"
   ]
  },
  {
   "cell_type": "code",
   "id": "ea2a6473",
   "metadata": {
    "id": "ea2a6473",
    "ExecuteTime": {
     "end_time": "2025-10-16T20:15:24.352825Z",
     "start_time": "2025-10-16T20:15:24.337539Z"
    }
   },
   "source": [
    "def benchmark_structures(n=10000):\n",
    "    \"\"\"Сравнить производительность различных структур для поиска максимума\"\"\"\n",
    "\n",
    "    # Генерация случайных данных\n",
    "    data = [random.randint(1, n*10) for _ in range(n)]\n",
    "\n",
    "    # 1. Обычный список (поиск максимума за O(n))\n",
    "    start = time.perf_counter()\n",
    "    for _ in range(100):\n",
    "        max(data)\n",
    "    list_time = time.perf_counter() - start\n",
    "\n",
    "    # 2. Отсортированный список (вставка O(n), максимум O(1))\n",
    "    sorted_list = []\n",
    "    start = time.perf_counter()\n",
    "    for val in data[:100]:  # Меньше операций из-за медленности\n",
    "        sorted_list.append(val)\n",
    "        sorted_list.sort()\n",
    "        max_val = sorted_list[-1]\n",
    "    sorted_time = time.perf_counter() - start\n",
    "\n",
    "    # 3. Heap (вставка O(log n), максимум O(log n))\n",
    "    heap = []\n",
    "    start = time.perf_counter()\n",
    "    for val in data[:1000]:  # Больше операций\n",
    "        heapq.heappush(heap, -val)  # Отрицательные для max-heap\n",
    "        max_val = -heap[0]\n",
    "    heap_time = time.perf_counter() - start\n",
    "\n",
    "    print(f\"Результаты для {n} элементов:\")\n",
    "    print(f\"Список (поиск max): {list_time:.4f}s\")\n",
    "    print(f\"Отсортированный список: {sorted_time:.4f}s (100 операций)\")\n",
    "    print(f\"Heap: {heap_time:.4f}s (1000 операций)\")\n",
    "\n",
    "benchmark_structures()"
   ],
   "outputs": [
    {
     "name": "stdout",
     "output_type": "stream",
     "text": [
      "Результаты для 10000 элементов:\n",
      "Список (поиск max): 0.0078s\n",
      "Отсортированный список: 0.0000s (100 операций)\n",
      "Heap: 0.0001s (1000 операций)\n"
     ]
    }
   ],
   "execution_count": 23
  },
  {
   "cell_type": "code",
   "id": "99af73af",
   "metadata": {
    "id": "99af73af",
    "ExecuteTime": {
     "end_time": "2025-10-16T20:03:20.765234Z",
     "start_time": "2025-10-16T20:03:20.637109Z"
    }
   },
   "source": [
    "def visualize_heap(heap: List[int]):\n",
    "    dot = Digraph()\n",
    "    for i, val in enumerate(heap):\n",
    "        dot.node(str(i), str(val))\n",
    "        parent_idx = (i - 1) // 2\n",
    "        if i > 0:\n",
    "            dot.edge(str(parent_idx), str(i))\n",
    "    return dot\n",
    "\n",
    "# Пример визуализации\n",
    "heap = MaxHeap()\n",
    "for x in [90, 70, 80, 20, 60, 25, 50]:\n",
    "    heap.insert(x)\n",
    "print(\"Визуализация кучи:\")\n",
    "visualize_heap(heap.heap)  # Раскомментируйте после реализации"
   ],
   "outputs": [
    {
     "name": "stdout",
     "output_type": "stream",
     "text": [
      "Визуализация кучи:\n"
     ]
    },
    {
     "data": {
      "image/svg+xml": "<?xml version=\"1.0\" encoding=\"UTF-8\" standalone=\"no\"?>\n<!DOCTYPE svg PUBLIC \"-//W3C//DTD SVG 1.1//EN\"\n \"http://www.w3.org/Graphics/SVG/1.1/DTD/svg11.dtd\">\n<!-- Generated by graphviz version 14.0.1 (20251006.0113)\n -->\n<!-- Pages: 1 -->\n<svg width=\"278pt\" height=\"188pt\"\n viewBox=\"0.00 0.00 278.00 188.00\" xmlns=\"http://www.w3.org/2000/svg\" xmlns:xlink=\"http://www.w3.org/1999/xlink\">\n<g id=\"graph0\" class=\"graph\" transform=\"scale(1 1) rotate(0) translate(4 184)\">\n<polygon fill=\"white\" stroke=\"none\" points=\"-4,4 -4,-184 274,-184 274,4 -4,4\"/>\n<!-- 0 -->\n<g id=\"node1\" class=\"node\">\n<title>0</title>\n<ellipse fill=\"none\" stroke=\"black\" cx=\"135\" cy=\"-162\" rx=\"27\" ry=\"18\"/>\n<text xml:space=\"preserve\" text-anchor=\"middle\" x=\"135\" y=\"-156.95\" font-family=\"Times,serif\" font-size=\"14.00\">90</text>\n</g>\n<!-- 1 -->\n<g id=\"node2\" class=\"node\">\n<title>1</title>\n<ellipse fill=\"none\" stroke=\"black\" cx=\"99\" cy=\"-90\" rx=\"27\" ry=\"18\"/>\n<text xml:space=\"preserve\" text-anchor=\"middle\" x=\"99\" y=\"-84.95\" font-family=\"Times,serif\" font-size=\"14.00\">70</text>\n</g>\n<!-- 0&#45;&gt;1 -->\n<g id=\"edge1\" class=\"edge\">\n<title>0&#45;&gt;1</title>\n<path fill=\"none\" stroke=\"black\" d=\"M126.65,-144.76C122.42,-136.55 117.19,-126.37 112.42,-117.09\"/>\n<polygon fill=\"black\" stroke=\"black\" points=\"115.68,-115.79 108,-108.49 109.46,-118.99 115.68,-115.79\"/>\n</g>\n<!-- 2 -->\n<g id=\"node3\" class=\"node\">\n<title>2</title>\n<ellipse fill=\"none\" stroke=\"black\" cx=\"171\" cy=\"-90\" rx=\"27\" ry=\"18\"/>\n<text xml:space=\"preserve\" text-anchor=\"middle\" x=\"171\" y=\"-84.95\" font-family=\"Times,serif\" font-size=\"14.00\">80</text>\n</g>\n<!-- 0&#45;&gt;2 -->\n<g id=\"edge2\" class=\"edge\">\n<title>0&#45;&gt;2</title>\n<path fill=\"none\" stroke=\"black\" d=\"M143.35,-144.76C147.58,-136.55 152.81,-126.37 157.58,-117.09\"/>\n<polygon fill=\"black\" stroke=\"black\" points=\"160.54,-118.99 162,-108.49 154.32,-115.79 160.54,-118.99\"/>\n</g>\n<!-- 3 -->\n<g id=\"node4\" class=\"node\">\n<title>3</title>\n<ellipse fill=\"none\" stroke=\"black\" cx=\"27\" cy=\"-18\" rx=\"27\" ry=\"18\"/>\n<text xml:space=\"preserve\" text-anchor=\"middle\" x=\"27\" y=\"-12.95\" font-family=\"Times,serif\" font-size=\"14.00\">20</text>\n</g>\n<!-- 1&#45;&gt;3 -->\n<g id=\"edge3\" class=\"edge\">\n<title>1&#45;&gt;3</title>\n<path fill=\"none\" stroke=\"black\" d=\"M84.08,-74.5C74.23,-64.92 61.14,-52.19 49.97,-41.34\"/>\n<polygon fill=\"black\" stroke=\"black\" points=\"52.59,-39 42.98,-34.54 47.71,-44.02 52.59,-39\"/>\n</g>\n<!-- 4 -->\n<g id=\"node5\" class=\"node\">\n<title>4</title>\n<ellipse fill=\"none\" stroke=\"black\" cx=\"99\" cy=\"-18\" rx=\"27\" ry=\"18\"/>\n<text xml:space=\"preserve\" text-anchor=\"middle\" x=\"99\" y=\"-12.95\" font-family=\"Times,serif\" font-size=\"14.00\">60</text>\n</g>\n<!-- 1&#45;&gt;4 -->\n<g id=\"edge4\" class=\"edge\">\n<title>1&#45;&gt;4</title>\n<path fill=\"none\" stroke=\"black\" d=\"M99,-71.7C99,-64.41 99,-55.73 99,-47.54\"/>\n<polygon fill=\"black\" stroke=\"black\" points=\"102.5,-47.62 99,-37.62 95.5,-47.62 102.5,-47.62\"/>\n</g>\n<!-- 5 -->\n<g id=\"node6\" class=\"node\">\n<title>5</title>\n<ellipse fill=\"none\" stroke=\"black\" cx=\"171\" cy=\"-18\" rx=\"27\" ry=\"18\"/>\n<text xml:space=\"preserve\" text-anchor=\"middle\" x=\"171\" y=\"-12.95\" font-family=\"Times,serif\" font-size=\"14.00\">25</text>\n</g>\n<!-- 2&#45;&gt;5 -->\n<g id=\"edge5\" class=\"edge\">\n<title>2&#45;&gt;5</title>\n<path fill=\"none\" stroke=\"black\" d=\"M171,-71.7C171,-64.41 171,-55.73 171,-47.54\"/>\n<polygon fill=\"black\" stroke=\"black\" points=\"174.5,-47.62 171,-37.62 167.5,-47.62 174.5,-47.62\"/>\n</g>\n<!-- 6 -->\n<g id=\"node7\" class=\"node\">\n<title>6</title>\n<ellipse fill=\"none\" stroke=\"black\" cx=\"243\" cy=\"-18\" rx=\"27\" ry=\"18\"/>\n<text xml:space=\"preserve\" text-anchor=\"middle\" x=\"243\" y=\"-12.95\" font-family=\"Times,serif\" font-size=\"14.00\">50</text>\n</g>\n<!-- 2&#45;&gt;6 -->\n<g id=\"edge6\" class=\"edge\">\n<title>2&#45;&gt;6</title>\n<path fill=\"none\" stroke=\"black\" d=\"M185.92,-74.5C195.77,-64.92 208.86,-52.19 220.03,-41.34\"/>\n<polygon fill=\"black\" stroke=\"black\" points=\"222.29,-44.02 227.02,-34.54 217.41,-39 222.29,-44.02\"/>\n</g>\n</g>\n</svg>\n",
      "text/plain": [
       "<graphviz.graphs.Digraph at 0x11062b9b0>"
      ]
     },
     "execution_count": 21,
     "metadata": {},
     "output_type": "execute_result"
    }
   ],
   "execution_count": 21
  },
  {
   "cell_type": "markdown",
   "id": "b9ca46fa",
   "metadata": {
    "id": "b9ca46fa"
   },
   "source": [
    "## Вопросы для отчёта\n",
    "\n",
    "### По видам деревьев:\n",
    "1. В чём основное различие между N-арным деревом и бинарным деревом?\n",
    "2. Почему BST обеспечивает поиск за O(log n) в среднем случае?\n",
    "3. Какие преимущества даёт Trie при работе со строками?\n",
    "4. Когда стоит использовать каждый тип дерева?\n",
    "\n",
    "### По двоичной куче:\n",
    "5. Какая временная сложность операций `insert` и `extract_max`? Обоснуйте.\n",
    "6. Почему алгоритм `heapify` работает за O(n), а не за O(n log n)?\n",
    "7. В чём отличие двоичной кучи от бинарного дерева поиска?\n",
    "\n",
    "### По применению куч:\n",
    "8. Почему для задачи \"K наибольших элементов\" используется min-heap размера K?\n",
    "9. Как две кучи помогают находить медиану за O(log n)?\n",
    "10. В чём преимущество использования кучи при слиянии K массивов?\n",
    "11. Приведите примеры реальных систем, где используются очереди с приоритетом.\n",
    "12. Сравните эффективность heapsort с быстрой сортировкой на случайных данных."
   ]
  },
  {
   "cell_type": "markdown",
   "id": "4de82aa9",
   "metadata": {
    "id": "4de82aa9"
   },
   "source": [
    "## Заключение\n",
    "\n",
    "В этой лабораторной работе вы изучили:\n",
    "- Различные типы древовидных структур данных\n",
    "- Реализацию и применение двоичной кучи\n",
    "- Практические алгоритмы, использующие кучи\n",
    "- Анализ производительности различных структур данных\n",
    "\n",
    "Эти знания помогут вам в решении широкого спектра алгоритмических задач и оптимизации производительности программ."
   ]
  }
 ],
 "metadata": {
  "language_info": {
   "name": "python"
  },
  "colab": {
   "provenance": []
  }
 },
 "nbformat": 4,
 "nbformat_minor": 5
}
